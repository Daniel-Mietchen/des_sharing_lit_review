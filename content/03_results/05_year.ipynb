{
 "cells": [
  {
   "cell_type": "markdown",
   "id": "c6068afb",
   "metadata": {},
   "source": [
    "# Year of publication\n",
    "\n",
    "### Primary research questions:\n",
    "\n",
    "The notebook partly answers the following research question:\n",
    "\n",
    "2. How is sharing affected by FOSS, Covid-19, publication type and year of publication?\n",
    "\n",
    "> Specifically we look at the number of shared models split into general health and Covid-19 subgroups.  We also analyse how the number of shared models as a proportion of the literature."
   ]
  },
  {
   "cell_type": "markdown",
   "id": "3a034af2",
   "metadata": {},
   "source": [
    "## 1. Imports \n",
    "\n",
    "### 1.1. Standard Imports"
   ]
  },
  {
   "cell_type": "code",
   "execution_count": 1,
   "id": "45a52a14",
   "metadata": {},
   "outputs": [],
   "source": [
    "import pandas as pd\n",
    "import numpy as np\n",
    "import matplotlib.pyplot as plt\n",
    "from matplotlib.ticker import MaxNLocator\n",
    "# set up plot style as ggplot\n",
    "plt.style.use('ggplot')"
   ]
  },
  {
   "cell_type": "markdown",
   "id": "b1560e13-c8b7-4fa9-a1b7-c6614ad0001c",
   "metadata": {},
   "source": [
    "## 1.2 Imports from preprocessing module"
   ]
  },
  {
   "cell_type": "code",
   "execution_count": 2,
   "id": "b2c8c53b-036c-476d-8fa9-d7d4573b0e27",
   "metadata": {},
   "outputs": [],
   "source": [
    "# function for loading full dataset\n",
    "from preprocessing import load_clean_dataset"
   ]
  },
  {
   "cell_type": "markdown",
   "id": "67a596c0",
   "metadata": {},
   "source": [
    "## 2. Constants"
   ]
  },
  {
   "cell_type": "code",
   "execution_count": 3,
   "id": "195aa1fa",
   "metadata": {},
   "outputs": [],
   "source": [
    "FILE_NAME = 'https://raw.githubusercontent.com/TomMonks/' \\\n",
    "    + 'des_sharing_lit_review/main/data/share_sim_data_extract.zip'\n",
    "\n",
    "RG_LABEL = 'reporting_guidelines_mention'\n",
    "NONE = 'None'\n",
    "WIDTH = 0.5"
   ]
  },
  {
   "cell_type": "markdown",
   "id": "ea389a17-9d5a-49be-9a67-a40075aa1647",
   "metadata": {
    "tags": []
   },
   "source": [
    "## 3. Functions\n",
    "\n",
    "### 3.1. Functions to create summary statistics\n",
    "\n",
    "Two functions are used together in order to generate the high level results by year. \n",
    "\n",
    "* `high_level_metrics` - takes a subgroup of the dataset and generates summary statistics and counts\n",
    "* `analysis_by_year` - loop through the years passing each to `high_levle_metrics` and concatenates datasets at the end."
   ]
  },
  {
   "cell_type": "code",
   "execution_count": 4,
   "id": "25a8d48f-ea36-4c01-8682-4023a1ea4f77",
   "metadata": {},
   "outputs": [],
   "source": [
    "def high_level_metrics(df, name='None'):\n",
    "    '''A simple high level summary of the review.\n",
    "    \n",
    "    Returns a dict containing simple high level counts\n",
    "    and percentages in the data#\n",
    "    \n",
    "    Params:\n",
    "    -------\n",
    "    df: pd.DataFrame \n",
    "        A cleaned dataset.  Could be overall or subgroups/categories\n",
    "        \n",
    "    Returns:\n",
    "    --------\n",
    "        dict \n",
    "    '''\n",
    "    results = {}\n",
    "    included = df[df['study_included'] == 1]\n",
    "    available = included[included['model_code_available'] == 1]\n",
    "    results['n_included'] = len(included[included['study_included'] == 1])\n",
    "    results['n_foss'] = len(included[included['foss_sim'] == '1'])\n",
    "    results['n_covid'] = len(included[included['covid'] == 1])\n",
    "    results['n_avail'] = len(included[included['model_code_available'] == 1])\n",
    "    results['n_foss_avail'] = len(available[available['foss_sim'] == '1'])\n",
    "    results['n_covid_avail'] = len(available[available['covid'] == 1])\n",
    "    results['per_foss'] = results['n_foss'] / results['n_included']\n",
    "    results['per_covid'] = results['n_covid'] / results['n_included']\n",
    "    results['per_avail'] = results['n_avail'] / results['n_included']\n",
    "    results['per_foss_avail'] = results['n_foss_avail'] / results['n_foss']\n",
    "    \n",
    "    # fix for 2019 as `n_covid` = 0\n",
    "    if results['n_covid'] > 0:\n",
    "        results['per_covid_avail'] = \\\n",
    "            results['n_covid_avail'] / results['n_covid']\n",
    "    else:\n",
    "        results['n_covid_avail'] = 0.0\n",
    "    results['reporting_guide'] = \\\n",
    "        len(included[included['reporting_guidelines_mention'] != 'None'])\n",
    "    results['per_reporting_guide'] = \\\n",
    "        results['reporting_guide'] / results['n_included']\n",
    "    return pd.Series(results, name=name)"
   ]
  },
  {
   "cell_type": "code",
   "execution_count": 5,
   "id": "5d3abf4e",
   "metadata": {},
   "outputs": [],
   "source": [
    "def analysis_by_year(df_clean, decimals=4):\n",
    "    '''\n",
    "    Conducts a high level analysis by year of publication\n",
    "    2019-2022\n",
    "    \n",
    "    Params:\n",
    "    -------\n",
    "    df_clean: pd.DataFrame\n",
    "        Assumes a cleaned version of the dataset.\n",
    "    \n",
    "    Returns: \n",
    "    -------\n",
    "    pd.DataFrame\n",
    "        Containing the result summary\n",
    "        \n",
    "    '''\n",
    "    overall_results = high_level_metrics(df_clean, 'overall')\n",
    "    year_results = []\n",
    "    years = df_clean['pub_yr'].unique().tolist()\n",
    "    for year in years:\n",
    "        subset = df_clean[df_clean['pub_yr'] == year]\n",
    "        year_results.append(high_level_metrics(subset, name=str(year)))\n",
    "    year_results = [overall_results] + year_results\n",
    "    year_results = pd.DataFrame(year_results).T.round(decimals)\n",
    "    return year_results[sorted(year_results.columns.tolist())]"
   ]
  },
  {
   "cell_type": "markdown",
   "id": "53635a08-5596-4e3f-b88d-ee416b7c5293",
   "metadata": {
    "tags": []
   },
   "source": [
    "### 3.2 Functions to plot results\n",
    "\n",
    "* `get_subgroups_as_dataframes`. Creates simpler to use DataFrame containing annual summaries of shared and non-shared models.  These are split into non-covid and covid subgroups.\n",
    "* `plot_sharing_by_year` - plot with 2 subfigures. The top subfigure is a stacked barchart of general health models + covid-19 models that have been shared by year of publication.  The lower subfigure presents yearly results as a percentage of total papers included in the study."
   ]
  },
  {
   "cell_type": "code",
   "execution_count": 6,
   "id": "47157ec6-2f32-4e50-b81b-8330e03fdb67",
   "metadata": {},
   "outputs": [],
   "source": [
    "def get_subgroups_as_dataframes(yr_summary):\n",
    "    '''\n",
    "    Create seperate subgroups from the yr_summary table\n",
    "    and return as independent DataFrame objects.  The overall column\n",
    "    is dropped and only annual figures are included.\n",
    "    \n",
    "    Makes assumptions about the naming of colunms in yr_summary.\n",
    "    \n",
    "    1. Non covid models shared\n",
    "    2. Covid models shared\n",
    "    3. Covid models not shared\n",
    "    4. Non covid models shared.\n",
    "    \n",
    "    Params:\n",
    "    -------\n",
    "    yr_summary: pd.DataFrame\n",
    "        Dataframe containing summary of metrics by publication year\n",
    "        \n",
    "    Returns:\n",
    "    -------\n",
    "    tuple\n",
    "    non-covid shared, covid shared, covid not shared, non covid not shared.\n",
    "    '''\n",
    "    \n",
    "    # non covid shared models \n",
    "    non_covid_shared = yr_summary.T['n_avail'] \\\n",
    "        - yr_summary.T['n_covid_avail']\n",
    "    \n",
    "    # covid shared models\n",
    "    covid_shared = yr_summary.T['n_covid_avail']\n",
    "    \n",
    "    # Covid models not shared\n",
    "    covid_not_shared = yr_summary.T['n_covid'] \\\n",
    "        - yr_summary.T['n_covid_avail']\n",
    "    \n",
    "    # non covid not shared\n",
    "    non_covid_not_shared = yr_summary.T['n_included'] \\\n",
    "        - yr_summary.T['n_avail'] - yr_summary.T['n_covid']\n",
    "    \n",
    "    # trim the overall column\n",
    "    return non_covid_shared[:-1], covid_shared[:-1], covid_not_shared[:-1], \\\n",
    "           non_covid_not_shared[:-1]"
   ]
  },
  {
   "cell_type": "code",
   "execution_count": 7,
   "id": "d8fd23b1-232d-411a-bf4d-9edff63958b0",
   "metadata": {},
   "outputs": [],
   "source": [
    "def plot_sharing_by_year(n_general_models, n_covid_models, \n",
    "                         per_models, xlabels, width=WIDTH, grid=True,\n",
    "                         figsize=(6, 5)):\n",
    "    '''\n",
    "    Plot the number of models shared by year of publication (in citation).\n",
    "    \n",
    "    In this function we split models into two subgroups: covid and non-covid\n",
    "    Non-covid models are refered to as 'general health models'\n",
    "    \n",
    "    The function creates a figure with two subplots.  \n",
    "    \n",
    "    Subplot 1: A stacked barchart of general health models (non covid) \n",
    "    + covid-19 models that have been shared by year of publication.  A legend is\n",
    "    provided to distinguish between general and covid models.\n",
    "    \n",
    "    Subplot 2: A bar chart expressing the total number of shared models as a \n",
    "    percentage of the number of included studies.\n",
    "    \n",
    "    Params:\n",
    "    -------\n",
    "    n_general_models: pd.DataFrame\n",
    "        Count of non covid-19 models that have been shared by year of pub.\n",
    "        \n",
    "    n_covid_models: pd.DataFrame\n",
    "         Count of covid-19 models that have been shared by year of pub.\n",
    "         \n",
    "    per_models: pd.DataFrame\n",
    "        Percent of total studies included that have been shared by year of pub.\n",
    "        \n",
    "    xlabels: list:\n",
    "        The years that represent the x-axis\n",
    "        \n",
    "    width: float, optional (default=WIDTH)\n",
    "        A parameter to manipulated the width of the bars (applies to both plots)\n",
    "        \n",
    "    grid: bool, optional (default=True)\n",
    "        Display grid lines (applies to both subplots)\n",
    "        \n",
    "    figsize: tuple(int, int), optional (default=(6,5)\n",
    "        The size of the figure.\n",
    "        \n",
    "    Returns:\n",
    "    --------\n",
    "    fig, ax\n",
    "\n",
    "    '''\n",
    "    fig, (ax1, ax2) = plt.subplots(nrows=2, sharex=True, figsize=figsize)\n",
    "\n",
    "    # include x, y grid \n",
    "    if grid:\n",
    "        ax1.grid(ls='--', axis='y')\n",
    "        ax2.grid(ls='--', axis='y')\n",
    "    \n",
    "    # plot one: stacked bar chart.  general health + covid models\n",
    "    y1 = ax1.bar(xlabels, n_general_models, \n",
    "                label='General Health', width=width)\n",
    "\n",
    "    y2 = ax1.bar(xlabels, n_covid_models,\n",
    "               label='Covid-19', bottom=n_general_models, width=width)\n",
    "\n",
    "    _ = ax1.set_ylabel('Shared Models')\n",
    "    _ = ax1.legend(ncols=1, loc='upper left', fontsize=8)\n",
    "    \n",
    "    # force integer values on y axis\n",
    "    ax1.yaxis.set_major_locator(MaxNLocator(integer=True))\n",
    "\n",
    "    # include x, y grid \n",
    "    if grid:\n",
    "        ax1.grid(ls='--', axis='y')\n",
    "        ax2.grid(ls='--', axis='y')\n",
    "        \n",
    "    ax1.bar_label(y2)\n",
    "\n",
    "    # set size of x, y ticks\n",
    "    ax1.tick_params(axis='both', labelsize=9)\n",
    "    ax2.tick_params(axis='both', labelsize=9)\n",
    "\n",
    "    # plot 2: percentage available by year\n",
    "    _ = ax2.bar(xlabels, per_models, label='All models', \n",
    "                width=width, color='green')\n",
    "\n",
    "    _ = ax2.set_ylabel('Percent of literature')\n",
    "    \n",
    "    return fig, (ax1, ax2)"
   ]
  },
  {
   "cell_type": "code",
   "execution_count": 8,
   "id": "24013e9e-22ed-4e96-926d-9b334fc8f35a",
   "metadata": {},
   "outputs": [],
   "source": [
    "def plot_all_subgroups_by_year(non_covid_shared, covid_shared, \n",
    "                               per_models, non_covid_not_shared, \n",
    "                               covid_not_shared,\n",
    "                               xlabels, width=WIDTH, grid=True,\n",
    "                               figsize=(6, 6)):\n",
    "    '''\n",
    "    Plot the number of models across subgroups by year of publication (in citation).\n",
    "    \n",
    "    In this function we split models into four subgroups: covid and non-covid \n",
    "    and shared and non-shared.\n",
    "    \n",
    "    Non-covid models are refered to as 'general health models'\n",
    "    \n",
    "    The function creates a figure with two subplots.  \n",
    "    \n",
    "    Subplot 1: A stacked barchart of unshared general health models (non covid)\n",
    "    + unshared covid-19 + shared non-covid + shared covid that have been shared \n",
    "    by year of publication.  \n",
    "    \n",
    "    A legend is provided to distinguish between the four subgroups\n",
    "    \n",
    "    Subplot 2: A bar chart expressing the total number of shared models as a \n",
    "    percentage of the number of included studies.\n",
    "    \n",
    "    Params:\n",
    "    -------\n",
    "    non_covid_shared: pd.DataFrame\n",
    "        Count of non covid-19 models that have been shared by year of pub.\n",
    "        \n",
    "    covid_shared: pd.DataFrame\n",
    "         Count of covid-19 models that have been shared by year of pub.\n",
    "         \n",
    "    non_covid_not_shared: pd.DataFrame\n",
    "        Count of non covid-19 models that have NOT been shared by year of pub.\n",
    "        \n",
    "    covid_not_shared: pd.DataFrame\n",
    "         Count of covid-19 models that have NOT been shared by year of pub.\n",
    "         \n",
    "    per_models: pd.DataFrame\n",
    "        Percent of total studies included that have been shared by year of pub.\n",
    "        \n",
    "    xlabels: list:\n",
    "        The years that represent the x-axis\n",
    "        \n",
    "    width: float, optional (default=WIDTH)\n",
    "        A parameter to manipulated the width of the bars (applies to both plots)\n",
    "        \n",
    "    grid: bool, optional (default=True)\n",
    "        Display grid lines (applies to both subplots)\n",
    "        \n",
    "    figsize: tuple(int, int), optional (default=(6,5)\n",
    "        The size of the figure.\n",
    "        \n",
    "    Returns:\n",
    "    --------\n",
    "    fig, ax\n",
    "\n",
    "    '''\n",
    "    \n",
    "    fig, (ax1, ax2) = plt.subplots(nrows=2, sharex=True, figsize=figsize)\n",
    "\n",
    "    # include x, y grid \n",
    "    if grid:\n",
    "        ax1.grid(ls='--', axis='y')\n",
    "        ax2.grid(ls='--', axis='y')\n",
    "    \n",
    "    # plot one: stacked bar chart.  general health + covid models\n",
    "    y1 = ax1.bar(xlabels, non_covid_not_shared, \n",
    "                label='Closed General', width=width)\n",
    "\n",
    "    y2 = ax1.bar(xlabels, covid_not_shared,\n",
    "                 label='Closed Covid-19', bottom=non_covid_not_shared, \n",
    "                 width=width)\n",
    "    \n",
    "    y3 = ax1.bar(xlabels, non_covid_shared,\n",
    "                 label='Open General', \n",
    "                 bottom=non_covid_not_shared+covid_not_shared, width=width)\n",
    "\n",
    "    y4 = ax1.bar(xlabels, covid_shared,\n",
    "                 label='Open Covid-19', \n",
    "                 bottom=non_covid_not_shared+covid_not_shared+\n",
    "                 non_covid_shared, width=width)\n",
    "\n",
    "    _ = ax1.set_ylabel('Models')\n",
    "    \n",
    "    _ = fig.legend(loc='upper left', ncol=2, bbox_to_anchor=(0.11, 1.0), \n",
    "                   fontsize=9)\n",
    "\n",
    "    # include x, y grid \n",
    "    if grid:\n",
    "        ax1.grid(ls='--', axis='y')\n",
    "        ax2.grid(ls='--', axis='y')\n",
    "        \n",
    "    ax1.bar_label(y4)\n",
    "\n",
    "    # set size of x, y ticks\n",
    "    ax1.tick_params(axis='both', labelsize=9)\n",
    "    ax2.tick_params(axis='both', labelsize=9)\n",
    "\n",
    "    # plot 2: percentage available by year\n",
    "    _ = ax2.bar(xlabels, per_models, label='All models', \n",
    "                width=width, color='green')\n",
    "\n",
    "    _ = ax2.set_ylabel('Percent of literature')\n",
    "    \n",
    "    return fig, (ax1, ax2)"
   ]
  },
  {
   "cell_type": "markdown",
   "id": "33672ad4-a028-4435-adb3-749ddc219e9c",
   "metadata": {},
   "source": [
    "## 4. Read in data"
   ]
  },
  {
   "cell_type": "code",
   "execution_count": 9,
   "id": "857e5149-7c7d-4a86-b499-0acf9bd15908",
   "metadata": {},
   "outputs": [],
   "source": [
    "clean = load_clean_dataset(FILE_NAME)"
   ]
  },
  {
   "cell_type": "markdown",
   "id": "727c8ba3-160b-49d1-ac11-ccf3248ca3d6",
   "metadata": {},
   "source": [
    "## 5. Results\n",
    "\n",
    "### 5.1 Overall summary table"
   ]
  },
  {
   "cell_type": "code",
   "execution_count": 10,
   "id": "6421c9ab-c7ce-4f7e-9fe1-67feb7370859",
   "metadata": {},
   "outputs": [
    {
     "data": {
      "text/html": [
       "<div>\n",
       "<style scoped>\n",
       "    .dataframe tbody tr th:only-of-type {\n",
       "        vertical-align: middle;\n",
       "    }\n",
       "\n",
       "    .dataframe tbody tr th {\n",
       "        vertical-align: top;\n",
       "    }\n",
       "\n",
       "    .dataframe thead th {\n",
       "        text-align: right;\n",
       "    }\n",
       "</style>\n",
       "<table border=\"1\" class=\"dataframe\">\n",
       "  <thead>\n",
       "    <tr style=\"text-align: right;\">\n",
       "      <th></th>\n",
       "      <th>2019</th>\n",
       "      <th>2020</th>\n",
       "      <th>2021</th>\n",
       "      <th>2022</th>\n",
       "      <th>overall</th>\n",
       "    </tr>\n",
       "  </thead>\n",
       "  <tbody>\n",
       "    <tr>\n",
       "      <th>n_included</th>\n",
       "      <td>126.0000</td>\n",
       "      <td>135.0000</td>\n",
       "      <td>158.0000</td>\n",
       "      <td>145.0000</td>\n",
       "      <td>564.0000</td>\n",
       "    </tr>\n",
       "    <tr>\n",
       "      <th>n_foss</th>\n",
       "      <td>18.0000</td>\n",
       "      <td>21.0000</td>\n",
       "      <td>35.0000</td>\n",
       "      <td>27.0000</td>\n",
       "      <td>101.0000</td>\n",
       "    </tr>\n",
       "    <tr>\n",
       "      <th>n_covid</th>\n",
       "      <td>0.0000</td>\n",
       "      <td>9.0000</td>\n",
       "      <td>35.0000</td>\n",
       "      <td>25.0000</td>\n",
       "      <td>69.0000</td>\n",
       "    </tr>\n",
       "    <tr>\n",
       "      <th>n_avail</th>\n",
       "      <td>5.0000</td>\n",
       "      <td>14.0000</td>\n",
       "      <td>15.0000</td>\n",
       "      <td>13.0000</td>\n",
       "      <td>47.0000</td>\n",
       "    </tr>\n",
       "    <tr>\n",
       "      <th>n_foss_avail</th>\n",
       "      <td>5.0000</td>\n",
       "      <td>7.0000</td>\n",
       "      <td>10.0000</td>\n",
       "      <td>7.0000</td>\n",
       "      <td>29.0000</td>\n",
       "    </tr>\n",
       "    <tr>\n",
       "      <th>n_covid_avail</th>\n",
       "      <td>0.0000</td>\n",
       "      <td>4.0000</td>\n",
       "      <td>11.0000</td>\n",
       "      <td>2.0000</td>\n",
       "      <td>17.0000</td>\n",
       "    </tr>\n",
       "    <tr>\n",
       "      <th>per_foss</th>\n",
       "      <td>0.1429</td>\n",
       "      <td>0.1556</td>\n",
       "      <td>0.2215</td>\n",
       "      <td>0.1862</td>\n",
       "      <td>0.1791</td>\n",
       "    </tr>\n",
       "    <tr>\n",
       "      <th>per_covid</th>\n",
       "      <td>0.0000</td>\n",
       "      <td>0.0667</td>\n",
       "      <td>0.2215</td>\n",
       "      <td>0.1724</td>\n",
       "      <td>0.1223</td>\n",
       "    </tr>\n",
       "    <tr>\n",
       "      <th>per_avail</th>\n",
       "      <td>0.0397</td>\n",
       "      <td>0.1037</td>\n",
       "      <td>0.0949</td>\n",
       "      <td>0.0897</td>\n",
       "      <td>0.0833</td>\n",
       "    </tr>\n",
       "    <tr>\n",
       "      <th>per_foss_avail</th>\n",
       "      <td>0.2778</td>\n",
       "      <td>0.3333</td>\n",
       "      <td>0.2857</td>\n",
       "      <td>0.2593</td>\n",
       "      <td>0.2871</td>\n",
       "    </tr>\n",
       "    <tr>\n",
       "      <th>per_covid_avail</th>\n",
       "      <td>NaN</td>\n",
       "      <td>0.4444</td>\n",
       "      <td>0.3143</td>\n",
       "      <td>0.0800</td>\n",
       "      <td>0.2464</td>\n",
       "    </tr>\n",
       "    <tr>\n",
       "      <th>reporting_guide</th>\n",
       "      <td>10.0000</td>\n",
       "      <td>21.0000</td>\n",
       "      <td>12.0000</td>\n",
       "      <td>29.0000</td>\n",
       "      <td>72.0000</td>\n",
       "    </tr>\n",
       "    <tr>\n",
       "      <th>per_reporting_guide</th>\n",
       "      <td>0.0794</td>\n",
       "      <td>0.1556</td>\n",
       "      <td>0.0759</td>\n",
       "      <td>0.2000</td>\n",
       "      <td>0.1277</td>\n",
       "    </tr>\n",
       "  </tbody>\n",
       "</table>\n",
       "</div>"
      ],
      "text/plain": [
       "                         2019      2020      2021      2022   overall\n",
       "n_included           126.0000  135.0000  158.0000  145.0000  564.0000\n",
       "n_foss                18.0000   21.0000   35.0000   27.0000  101.0000\n",
       "n_covid                0.0000    9.0000   35.0000   25.0000   69.0000\n",
       "n_avail                5.0000   14.0000   15.0000   13.0000   47.0000\n",
       "n_foss_avail           5.0000    7.0000   10.0000    7.0000   29.0000\n",
       "n_covid_avail          0.0000    4.0000   11.0000    2.0000   17.0000\n",
       "per_foss               0.1429    0.1556    0.2215    0.1862    0.1791\n",
       "per_covid              0.0000    0.0667    0.2215    0.1724    0.1223\n",
       "per_avail              0.0397    0.1037    0.0949    0.0897    0.0833\n",
       "per_foss_avail         0.2778    0.3333    0.2857    0.2593    0.2871\n",
       "per_covid_avail           NaN    0.4444    0.3143    0.0800    0.2464\n",
       "reporting_guide       10.0000   21.0000   12.0000   29.0000   72.0000\n",
       "per_reporting_guide    0.0794    0.1556    0.0759    0.2000    0.1277"
      ]
     },
     "execution_count": 10,
     "metadata": {},
     "output_type": "execute_result"
    }
   ],
   "source": [
    "# overall\n",
    "year_summary = analysis_by_year(clean)\n",
    "year_summary"
   ]
  },
  {
   "cell_type": "markdown",
   "id": "32f53df8-1a0f-4878-b16f-5c24cb9a28f2",
   "metadata": {},
   "source": [
    "#### Average shared by year."
   ]
  },
  {
   "cell_type": "code",
   "execution_count": 11,
   "id": "e7cb2344-f6ad-42a7-92d5-fcefe6363379",
   "metadata": {},
   "outputs": [
    {
     "data": {
      "text/plain": [
       "141.0"
      ]
     },
     "execution_count": 11,
     "metadata": {},
     "output_type": "execute_result"
    }
   ],
   "source": [
    "year_summary.loc['n_included'][:-1].mean()"
   ]
  },
  {
   "cell_type": "code",
   "execution_count": 12,
   "id": "f146e1a3-210b-45e0-93e1-f4adb44ba8fa",
   "metadata": {},
   "outputs": [
    {
     "data": {
      "text/plain": [
       "23.0"
      ]
     },
     "execution_count": 12,
     "metadata": {},
     "output_type": "execute_result"
    }
   ],
   "source": [
    "year_summary.loc['n_covid'][1:-1].mean()"
   ]
  },
  {
   "cell_type": "code",
   "execution_count": null,
   "id": "cc74bc93-a1bb-494e-a2f5-91fceaeb4395",
   "metadata": {},
   "outputs": [],
   "source": []
  },
  {
   "cell_type": "markdown",
   "id": "3c1710b4-d0fb-44b5-9773-01492d0ecd38",
   "metadata": {},
   "source": [
    "### 5.3. Sharing of models by year of publication"
   ]
  },
  {
   "cell_type": "code",
   "execution_count": 13,
   "id": "f53f4712-eae9-4794-8c84-79a9716ce36d",
   "metadata": {},
   "outputs": [],
   "source": [
    "# Get the subgroups from the year by year results\n",
    "non_covid_shared, covid_shared, covid_not_shared, \\\n",
    "           non_covid_not_shared = get_subgroups_as_dataframes(year_summary)"
   ]
  },
  {
   "cell_type": "code",
   "execution_count": 14,
   "id": "154a71db-1bd7-4620-943d-7c25eb5e7692",
   "metadata": {},
   "outputs": [
    {
     "data": {
      "image/png": "[encoded data removed]",
      "text/plain": [
       "<Figure size 600x500 with 2 Axes>"
      ]
     },
     "metadata": {},
     "output_type": "display_data"
    }
   ],
   "source": [
    "fig1, axs = plot_sharing_by_year(n_general_models=non_covid_shared,\n",
    "                                 n_covid_models=covid_shared,\n",
    "                                 per_models=year_summary.T['per_avail'][:-1],\n",
    "                                 xlabels=year_summary.columns[:-1],\n",
    "                                 grid=False)"
   ]
  },
  {
   "cell_type": "code",
   "execution_count": 15,
   "id": "f485aef1-12f4-458c-bc28-7aab7e73a3f0",
   "metadata": {},
   "outputs": [],
   "source": [
    "# output the chart as .png for publication\n",
    "fig1.savefig('fig2.png', dpi=300, bbox_inches='tight')"
   ]
  },
  {
   "cell_type": "markdown",
   "id": "5f9d5f6a-eafa-4761-9b52-5498d86dd438",
   "metadata": {},
   "source": [
    "### 5.4 All sharing subgroups by year of publication."
   ]
  },
  {
   "cell_type": "code",
   "execution_count": 16,
   "id": "5986232a-ec0f-4669-a68e-49e7a1c93478",
   "metadata": {},
   "outputs": [
    {
     "data": {
      "image/png": "[encoded data removed]",
      "text/plain": [
       "<Figure size 600x600 with 2 Axes>"
      ]
     },
     "metadata": {},
     "output_type": "display_data"
    }
   ],
   "source": [
    "fig, axs = plot_all_subgroups_by_year(non_covid_shared=non_covid_shared,\n",
    "                                      covid_shared=covid_shared,\n",
    "                                      per_models=year_summary.T['per_avail'][:-1],\n",
    "                                      non_covid_not_shared=non_covid_not_shared,\n",
    "                                      covid_not_shared=covid_not_shared,\n",
    "                                      xlabels=year_summary.columns[:-1],\n",
    "                                      grid=False)"
   ]
  }
 ],
 "metadata": {
  "kernelspec": {
   "display_name": "Python 3 (ipykernel)",
   "language": "python",
   "name": "python3"
  },
  "language_info": {
   "codemirror_mode": {
    "name": "ipython",
    "version": 3
   },
   "file_extension": ".py",
   "mimetype": "text/x-python",
   "name": "python",
   "nbconvert_exporter": "python",
   "pygments_lexer": "ipython3",
   "version": "3.9.15"
  }
 },
 "nbformat": 4,
 "nbformat_minor": 5
}
