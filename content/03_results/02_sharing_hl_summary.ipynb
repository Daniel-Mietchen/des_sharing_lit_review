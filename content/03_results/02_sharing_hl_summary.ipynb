{
 "cells": [
  {
   "cell_type": "markdown",
   "id": "c6068afb",
   "metadata": {},
   "source": [
    "# A high level summary of sharing of models\n",
    "\n",
    "## Primary research questions:\n",
    "\n",
    "These results presented in this notebook the following questions\n",
    "\n",
    "1. What proportion of DES healthcare papers that share their models and code?\n",
    "2. What proportion of these papers that use Free and Open Source Simulation and of these what number are shared?\n",
    "3. What proportion of these papers that tackle covid-19 and share their models?"
   ]
  },
  {
   "cell_type": "markdown",
   "id": "3a034af2",
   "metadata": {},
   "source": [
    "## Imports "
   ]
  },
  {
   "cell_type": "code",
   "execution_count": 1,
   "id": "45a52a14",
   "metadata": {},
   "outputs": [],
   "source": [
    "import pandas as pd\n",
    "import numpy as np\n",
    "import matplotlib.pyplot as plt"
   ]
  },
  {
   "cell_type": "code",
   "execution_count": 2,
   "id": "b2c8c53b-036c-476d-8fa9-d7d4573b0e27",
   "metadata": {},
   "outputs": [],
   "source": [
    "## Imports from preprocessing module\n",
    "from preprocessing import load_clean_dataset"
   ]
  },
  {
   "cell_type": "markdown",
   "id": "67a596c0",
   "metadata": {},
   "source": [
    "## Constants"
   ]
  },
  {
   "cell_type": "code",
   "execution_count": 3,
   "id": "195aa1fa",
   "metadata": {},
   "outputs": [],
   "source": [
    "FILE_NAME = 'https://raw.githubusercontent.com/TomMonks/' \\\n",
    "    + 'des_sharing_lit_review/main/data/share_sim_data_extract.zip'"
   ]
  },
  {
   "cell_type": "markdown",
   "id": "ea389a17-9d5a-49be-9a67-a40075aa1647",
   "metadata": {
    "tags": []
   },
   "source": [
    "## Functions to genereate a high level summary table.\n",
    "\n",
    "We include three functions to generate a high level summary table.  \n",
    "\n",
    "* The first calculates the summary metrics from the main table.\n",
    "* The second function creates a tabular view of the data split by item type.\n",
    "* The third function formats this as a table suitable for journal publication.  In our paper this is Table 2."
   ]
  },
  {
   "cell_type": "code",
   "execution_count": 4,
   "id": "5d3abf4e",
   "metadata": {},
   "outputs": [],
   "source": [
    "def high_level_metrics(df, name='None'):\n",
    "    '''A simple high level summary of the review.\n",
    "    \n",
    "    Returns a dict containing simple high level counts\n",
    "    and percentages in the data#\n",
    "    \n",
    "    Params:\n",
    "    -------\n",
    "    df: pd.DataFrame \n",
    "        A cleaned dataset.  Could be overall or subgroups/categories\n",
    "        \n",
    "    Returns:\n",
    "    --------\n",
    "        dict \n",
    "    '''\n",
    "    results = {}\n",
    "    included = df[df['study_included'] == 1]\n",
    "    available = included[included['model_code_available'] == 1]\n",
    "    results['n_included'] = len(included[included['study_included'] == 1])\n",
    "    results['n_foss'] = len(included[included['foss_sim'] == '1'])\n",
    "    results['n_covid'] = len(included[included['covid'] == 1])\n",
    "    results['n_avail'] = len(included[included['model_code_available'] == 1])\n",
    "    results['n_foss_avail'] = len(available[available['foss_sim'] == '1'])\n",
    "    results['n_covid_avail'] = len(available[available['covid'] == 1])\n",
    "    results['per_foss'] = results['n_foss'] / results['n_included']\n",
    "    results['per_covid'] = results['n_covid'] / results['n_included']\n",
    "    results['per_avail'] = results['n_avail'] / results['n_included']\n",
    "    results['per_foss_avail'] = results['n_foss_avail'] / results['n_foss']\n",
    "    results['per_covid_avail'] = results['n_covid_avail'] / results['n_covid']\n",
    "    results['reporting_guide'] = len(included[included['reporting_guidelines_mention'] != 'None'])\n",
    "    results['per_reporting_guide'] = results['reporting_guide'] / results['n_included']\n",
    "    return pd.Series(results, name=name)"
   ]
  },
  {
   "cell_type": "code",
   "execution_count": 5,
   "id": "8a3f5ac6-106d-4d9f-8cfe-816cf06924e0",
   "metadata": {},
   "outputs": [],
   "source": [
    "def analysis_by_item_type(df_clean, decimals=4):\n",
    "    '''\n",
    "    Conducts a high level analysis by item type: journal, conference, book\n",
    "    + overall.\n",
    "    \n",
    "    Params:\n",
    "    -------\n",
    "    df_clean: pd.DataFrame\n",
    "        Assumes a cleaned version of the dataset.\n",
    "    \n",
    "    Returns: \n",
    "    -------\n",
    "    pd.DataFrame\n",
    "        Containing the result summary\n",
    "        \n",
    "    '''\n",
    "    overall_results = high_level_metrics(df_clean, 'overall')\n",
    "    article_type_results = []\n",
    "    article_types = df_clean['item_type'].unique().tolist()\n",
    "    for article_type in article_types:\n",
    "        subset = df_clean[df_clean['item_type'] == article_type]\n",
    "        article_type_results.append(high_level_metrics(subset, \n",
    "                                                       name=article_type))\n",
    "    article_type_results = [overall_results] + article_type_results\n",
    "    return pd.DataFrame(article_type_results).T.round(decimals)\n"
   ]
  },
  {
   "cell_type": "code",
   "execution_count": 6,
   "id": "38e265b9-203f-4ced-91a7-45aaae7c3220",
   "metadata": {},
   "outputs": [],
   "source": [
    "def format_table2(summary):\n",
    "    '''\n",
    "    Create a formatted table 1 of results for manuscript.\n",
    "    '''\n",
    "    total_rows = ['n_included', 'n_covid', 'n_foss']\n",
    "    avail_rows = ['n_avail', 'n_covid_avail', 'n_foss_avail']\n",
    "    per_rows = ['per_avail', 'per_covid_avail', 'per_foss_avail']\n",
    "    new_cols_titles = ['metric', 'overall', 'shared', 'per']\n",
    "       \n",
    "    # only work with the overall column\n",
    "    selected_cols = ['overall'] # , 'journalArticle', 'conferencePaper', 'book']\n",
    "    overall = summary[selected_cols]\n",
    "    \n",
    "    # total number of papers\n",
    "    totals = overall.loc[total_rows]\n",
    "    totals = totals.reset_index()\n",
    "    totals['overall'] = totals['overall'].map('{:,.0f}'.format)\n",
    "    \n",
    "    # no. models that are available from the total\n",
    "    shared = overall.loc[avail_rows]\n",
    "    shared = shared.reset_index()\n",
    "    \n",
    "    # percentage of papers \n",
    "    per = overall.loc[per_rows]\n",
    "    per = per.reset_index()\n",
    "    per = per * 100\n",
    "        \n",
    "    # construct table and format columns in n (%) format\n",
    "    t1 = pd.concat([totals, shared['overall'], per['overall']], \\\n",
    "                   axis=1, ignore_index=True)\n",
    "\n",
    "    t1.columns = new_cols_titles\n",
    "    \n",
    "    t1['shared n (\\%)'] = t1['shared'].map('{:,.0f}'.format) \\\n",
    "        + ' (' + t1['per'].map('{:,.1f}'.format) + ')'\n",
    "    \n",
    "    #t1['overall'] = t1['overall'].map('{:,.0f}')\n",
    "    \n",
    "    to_drop = ['shared', 'per']\n",
    "    t1 = t1.drop(to_drop, axis=1)\n",
    "    t1.iat[0, 0] = 'Total'\n",
    "    t1.iat[1, 0] = 'COVID-19'\n",
    "    t1.iat[2, 0] = 'FOSS'\n",
    "    t1 = t1.set_index('metric')\n",
    "    return t1\n",
    "    "
   ]
  },
  {
   "cell_type": "markdown",
   "id": "33672ad4-a028-4435-adb3-749ddc219e9c",
   "metadata": {},
   "source": [
    "## Read in data"
   ]
  },
  {
   "cell_type": "code",
   "execution_count": 7,
   "id": "857e5149-7c7d-4a86-b499-0acf9bd15908",
   "metadata": {},
   "outputs": [],
   "source": [
    "clean = load_clean_dataset(FILE_NAME)"
   ]
  },
  {
   "cell_type": "markdown",
   "id": "727c8ba3-160b-49d1-ac11-ccf3248ca3d6",
   "metadata": {},
   "source": [
    "## Results\n",
    "\n",
    "### Create a high level summary of the main dataset"
   ]
  },
  {
   "cell_type": "markdown",
   "id": "51227828",
   "metadata": {},
   "source": [
    "In the manuscript table 2 provides a simple high level results "
   ]
  },
  {
   "cell_type": "code",
   "execution_count": 8,
   "id": "8fbedb88",
   "metadata": {},
   "outputs": [],
   "source": [
    "results = analysis_by_item_type(clean)"
   ]
  },
  {
   "cell_type": "code",
   "execution_count": 9,
   "id": "2a64a48c-0e07-4723-8871-4e2e4e8b88a4",
   "metadata": {},
   "outputs": [
    {
     "data": {
      "text/html": [
       "<div>\n",
       "<style scoped>\n",
       "    .dataframe tbody tr th:only-of-type {\n",
       "        vertical-align: middle;\n",
       "    }\n",
       "\n",
       "    .dataframe tbody tr th {\n",
       "        vertical-align: top;\n",
       "    }\n",
       "\n",
       "    .dataframe thead th {\n",
       "        text-align: right;\n",
       "    }\n",
       "</style>\n",
       "<table border=\"1\" class=\"dataframe\">\n",
       "  <thead>\n",
       "    <tr style=\"text-align: right;\">\n",
       "      <th></th>\n",
       "      <th>overall</th>\n",
       "      <th>shared n (\\%)</th>\n",
       "    </tr>\n",
       "    <tr>\n",
       "      <th>metric</th>\n",
       "      <th></th>\n",
       "      <th></th>\n",
       "    </tr>\n",
       "  </thead>\n",
       "  <tbody>\n",
       "    <tr>\n",
       "      <th>Total</th>\n",
       "      <td>485</td>\n",
       "      <td>43 (8.9)</td>\n",
       "    </tr>\n",
       "    <tr>\n",
       "      <th>COVID-19</th>\n",
       "      <td>59</td>\n",
       "      <td>16 (27.1)</td>\n",
       "    </tr>\n",
       "    <tr>\n",
       "      <th>FOSS</th>\n",
       "      <td>88</td>\n",
       "      <td>26 (29.5)</td>\n",
       "    </tr>\n",
       "  </tbody>\n",
       "</table>\n",
       "</div>"
      ],
      "text/plain": [
       "         overall shared n (\\%)\n",
       "metric                        \n",
       "Total        485      43 (8.9)\n",
       "COVID-19      59     16 (27.1)\n",
       "FOSS          88     26 (29.5)"
      ]
     },
     "execution_count": 9,
     "metadata": {},
     "output_type": "execute_result"
    }
   ],
   "source": [
    "table2 = format_table2(results)\n",
    "table2"
   ]
  },
  {
   "cell_type": "markdown",
   "id": "3932165c-ce6d-40b2-9727-272b3b9604a9",
   "metadata": {},
   "source": [
    "##  Table 2 LateX\n",
    "\n",
    "Here we generate the LaTeX to insert into a journal publication."
   ]
  },
  {
   "cell_type": "code",
   "execution_count": 10,
   "id": "27935313-5e14-43ab-b55e-c29cdf2800e1",
   "metadata": {},
   "outputs": [
    {
     "name": "stdout",
     "output_type": "stream",
     "text": [
      "\\begin{tabular}{lll}\n",
      " & overall & shared n (\\%) \\\\\n",
      "metric &  &  \\\\\n",
      "Total & 485 & 43 (8.9) \\\\\n",
      "COVID-19 & 59 & 16 (27.1) \\\\\n",
      "FOSS & 88 & 26 (29.5) \\\\\n",
      "\\end{tabular}\n",
      "\n"
     ]
    }
   ],
   "source": [
    "print(table2.style.to_latex())"
   ]
  }
 ],
 "metadata": {
  "kernelspec": {
   "display_name": "Python 3 (ipykernel)",
   "language": "python",
   "name": "python3"
  },
  "language_info": {
   "codemirror_mode": {
    "name": "ipython",
    "version": 3
   },
   "file_extension": ".py",
   "mimetype": "text/x-python",
   "name": "python",
   "nbconvert_exporter": "python",
   "pygments_lexer": "ipython3",
   "version": "3.9.15"
  }
 },
 "nbformat": 4,
 "nbformat_minor": 5
}
