{
 "cells": [
  {
   "cell_type": "markdown",
   "id": "f156ed3a-654e-4515-be9c-141dcd9332ae",
   "metadata": {},
   "source": [
    "# Prisma Diagram\n",
    "\n",
    "Here we provide a **P**referred **R**eporting **I**tems for **S**ystematic Reviews and **M**eta-**A**nalyses (PRISMA) diagram.  PRISMA aims to improve the reporting of systematic reviews.  Full details of the PRISMA statement can be found on at [https://prisma-statement.org](https://prisma-statement.org)\n",
    "\n",
    "The flow diagram generated visualises the manuscripts returned from multiple database searches, duplicates, titles/abstracts screened in/out; and manuscripts included excluded during full text screening.\n",
    "\n",
    "## Overview of notebook\n",
    "\n",
    "This notebook uses the `graphviz` library to generate a basic flow diagram.  It is separated into four sections: imports; a function to create the flow diagram; a script to populate a `dict` with the findings from our study; and the code to run function and save the image to file.  Our flow diagram illustrates results prior to forward citation chasing.\n",
    "\n",
    "The diagram we generate here is not the same layout as specified by PRISMA 2020.  To generate a compliant diagram we format our data into a template that can be uploaded to https://estech.shinyapps.io/prisma_flowdiagram/. \n",
    "\n",
    ">     Haddaway, N. R., Page, M. J., Pritchard, C. C., & McGuinness, L. A. (2022). \n",
    "    PRISMA2020: An R package and Shiny app for producing PRISMA 2020-compliant \n",
    "    flow diagrams, with interactivity for optimised digital transparency \n",
    "    and Open Synthesis Campbell Systematic Reviews, 18, e1230. \n",
    "    https://doi.org/10.1002/cl2.1230\n",
    "\n",
    "## Limitations\n",
    "\n",
    "It was not possible to completely automate our deduplication process. This was part done using our own software (stripping whitespace and punctunctation), and part using Zotero to match probably duplicates and then manually merge. Our published dataset contains all papers we **attempted to retrieve**.  This means we can only calculate statistics the full test screening stage of our review.  "
   ]
  },
  {
   "cell_type": "markdown",
   "id": "93137fb3-d62c-4170-86f9-89113631b3d7",
   "metadata": {},
   "source": [
    "## 1. Imports\n",
    "\n",
    "### 1.1 Graphviz imports\n",
    "\n",
    "We have generated our PRSIMA diagram using `graphviz`"
   ]
  },
  {
   "cell_type": "code",
   "execution_count": 1,
   "id": "f220c932-4ba7-4dd2-890a-95b4a89d199b",
   "metadata": {},
   "outputs": [],
   "source": [
    "from graphviz import Digraph\n",
    "from graphviz import Graph\n",
    "import pydot"
   ]
  },
  {
   "cell_type": "markdown",
   "id": "931d9d75-1b94-4126-81c0-a8be171932f3",
   "metadata": {},
   "source": [
    "### 1.2 Standard imports"
   ]
  },
  {
   "cell_type": "code",
   "execution_count": 2,
   "id": "3a151ba6-837a-40db-92af-979929e01373",
   "metadata": {},
   "outputs": [],
   "source": [
    "import pandas as pd\n",
    "import numpy as np"
   ]
  },
  {
   "cell_type": "markdown",
   "id": "8b0a5778-7231-4694-a776-9b960dd2d7a0",
   "metadata": {},
   "source": [
    "### 1.3 Imports from preprocessing module"
   ]
  },
  {
   "cell_type": "code",
   "execution_count": 3,
   "id": "ad7e0ba9-49c7-4e73-97dc-0c71fff3f222",
   "metadata": {},
   "outputs": [],
   "source": [
    "# function for loading full dataset\n",
    "from preprocessing import load_clean_dataset"
   ]
  },
  {
   "cell_type": "markdown",
   "id": "d0bd364f-fcd7-424d-9bb6-ea86c101d2b8",
   "metadata": {},
   "source": [
    "## 2. Constants"
   ]
  },
  {
   "cell_type": "code",
   "execution_count": 4,
   "id": "a44388c9-8b41-491d-8a55-1bfa29b5381b",
   "metadata": {},
   "outputs": [],
   "source": [
    "# studies pre forward search\n",
    "PRE_FS = 'https://raw.githubusercontent.com/TomMonks/' \\\n",
    "    + 'des_sharing_lit_review/main/data/pre_forward_search/' \\\n",
    "    + 'before_forward_search.zip'\n",
    "\n",
    "\n",
    "# all studies we included in stage 2\n",
    "FILE_NAME = 'https://raw.githubusercontent.com/TomMonks/' \\\n",
    "    + 'des_sharing_lit_review/main/data/share_sim_data_extract.zip'\n",
    "\n",
    "# pre-screnning file locations\n",
    "POST_FIX = '../../data/pre_screening/'\n",
    "POST_FIX_STAGE1 = '../../data/stage1/'\n",
    "POST_FIX_FS = '../../data/forward_search/'\n",
    "POST_FIX_PRE_FS = '../../data/pre_forward_search/'\n",
    "SCOPUS = POST_FIX + 'Scopus_search.zip'\n",
    "PUBMED = POST_FIX + 'pubmed_part.zip'\n",
    "ACM = POST_FIX + '20220903_acm.zip'\n",
    "WOS = POST_FIX + '20220903_wos.zip'\n",
    "UNIQUE = POST_FIX_STAGE1 + 'unique_papers.zip'\n",
    "FORWARD_SEARCH = POST_FIX_FS + 'forward_search_spidercite.zip'\n",
    "PRE_FS = POST_FIX_PRE_FS + 'before_forward_search.zip'\n",
    "FS_ASSESSED = POST_FIX_FS + 'forward_search_assessed.zip'\n",
    "\n",
    "# for template for R shiney app to create 2020 compliant prisma diagram\n",
    "TEMPLATE_FILE = 'prisma_template/PRISMA.csv'"
   ]
  },
  {
   "cell_type": "markdown",
   "id": "b69b4343-78be-449d-a3e2-7297b1facf67",
   "metadata": {},
   "source": [
    "## 3. Functions to create diagram\n",
    "\n",
    "We provide functions to calculate basic statistics for the dataset i.e.\n",
    "\n",
    "* number_studies_included\n",
    "* studies_to_retrieve\n",
    "* papers_not_retrieved\n",
    "* excluded_count\n",
    "* models_with_code\n",
    "* A number of functions to return the number of records retrieved from the databases included in the study.\n",
    "\n",
    "And a function to create the `graphviz` based prisma diagram.\n",
    "\n",
    "* graph_prisma"
   ]
  },
  {
   "cell_type": "code",
   "execution_count": 5,
   "id": "de155d89-86c0-498a-b424-9ecce59f5afc",
   "metadata": {},
   "outputs": [],
   "source": [
    "def number_studies_included(df):\n",
    "    '''\n",
    "    Return the number of studies included after screening.\n",
    "    \n",
    "    Params:\n",
    "    ------\n",
    "    df: pd.DataFrame\n",
    "        The dataframe - expected to be the full study\n",
    "        \n",
    "    Returns:\n",
    "    -------\n",
    "    int\n",
    "    '''\n",
    "    return len(df[df['study_included'] == 1])"
   ]
  },
  {
   "cell_type": "code",
   "execution_count": 6,
   "id": "b9c6876d-8740-4d76-b13a-409e7d1cdd57",
   "metadata": {},
   "outputs": [],
   "source": [
    "def studies_to_retrieve(df):\n",
    "    '''\n",
    "    Return the number of studies to retrieve after screening\n",
    "    \n",
    "    Params:\n",
    "    ------\n",
    "    df: pd.DataFrame\n",
    "        The dataframe - expected to be the full study\n",
    "        \n",
    "    Returns:\n",
    "    -------\n",
    "    int\n",
    "    '''\n",
    "    return len(df)"
   ]
  },
  {
   "cell_type": "code",
   "execution_count": 7,
   "id": "311863a1-820b-4f66-b55f-d58639c50bb5",
   "metadata": {},
   "outputs": [],
   "source": [
    "def papers_not_retrieved(df):\n",
    "    '''\n",
    "    Return the number of studies not retrieved.\n",
    "    These are labelled as 'Full Text Not Availabe'\n",
    "    \n",
    "    Params:\n",
    "    ------\n",
    "    df: pd.DataFrame\n",
    "        The dataframe - expected to be the full study\n",
    "        \n",
    "    Returns:\n",
    "    -------\n",
    "    int\n",
    "    '''\n",
    "    return len(df[df['excluded_reason'] == 'Full Text Not Available'])"
   ]
  },
  {
   "cell_type": "code",
   "execution_count": 8,
   "id": "cb45b47e-bdf9-462a-99e7-a67d9a8bb267",
   "metadata": {},
   "outputs": [],
   "source": [
    "def excluded_count(df, reason):\n",
    "    '''\n",
    "    Return the number of studies excluded with a specific reason.\n",
    "    \n",
    "    Params:\n",
    "    ------\n",
    "    df: pd.DataFrame\n",
    "        The dataframe - expected to be the full study\n",
    "        \n",
    "    Returns:\n",
    "    -------\n",
    "    int\n",
    "    '''\n",
    "    return len(df[df['excluded_reason'] == reason])"
   ]
  },
  {
   "cell_type": "code",
   "execution_count": 9,
   "id": "42768e71-51c6-4284-ae1f-8d4069b0e4b7",
   "metadata": {},
   "outputs": [],
   "source": [
    "def models_with_code(df):\n",
    "    '''\n",
    "    Return the number of included studies that shared DES models.\n",
    "    \n",
    "    Params:\n",
    "    ------\n",
    "    df: pd.DataFrame\n",
    "        The dataframe - expected to be the full study\n",
    "        \n",
    "    Returns:\n",
    "    -------\n",
    "    int\n",
    "    '''\n",
    "    return len(df[(df['study_included'] == 1) & \n",
    "                   (df['model_code_available'] == 1)])"
   ]
  },
  {
   "cell_type": "code",
   "execution_count": 10,
   "id": "6c4e4281-bba5-4b2c-9e87-aefcf6b58e6d",
   "metadata": {},
   "outputs": [],
   "source": [
    "def returned_from_scopus_after_dedup():\n",
    "    '''\n",
    "    Returns the number from scopus after deduplication.\n",
    "    '''\n",
    "    total = 0\n",
    "    for yr in range(2019, 2023):\n",
    "        total += len(pd.read_csv(SCOPUS[str(yr)]))\n",
    "    return total"
   ]
  },
  {
   "cell_type": "code",
   "execution_count": 11,
   "id": "ab5e4e5c-5e78-4e91-8d86-5021e147aa15",
   "metadata": {},
   "outputs": [],
   "source": [
    "def returned_from_scopus_before_dedup():\n",
    "    '''\n",
    "    Returns the number from PubMed BEFORE deduplication.\n",
    "    '''\n",
    "    return len(pd.read_csv(SCOPUS))"
   ]
  },
  {
   "cell_type": "code",
   "execution_count": 12,
   "id": "66fcb50a-5e41-4131-837b-4ed8058e0c48",
   "metadata": {},
   "outputs": [],
   "source": [
    "def returned_from_pubmed_before_dedup():\n",
    "    '''\n",
    "    Returns the number from PubMed BEFORE deduplication.\n",
    "    '''\n",
    "    return len(pd.read_csv(PUBMED))"
   ]
  },
  {
   "cell_type": "code",
   "execution_count": 13,
   "id": "5b96097c-4c84-4c01-b32a-81ea0f4d2d83",
   "metadata": {},
   "outputs": [],
   "source": [
    "def returned_from_acm_before_dedup():\n",
    "    '''\n",
    "    Returns the number from ACM Digital Library BEFORE deduplication.\n",
    "    '''\n",
    "    return len(pd.read_csv(ACM))"
   ]
  },
  {
   "cell_type": "code",
   "execution_count": 14,
   "id": "cf0e13e0-096a-4556-a391-79e1801fa9dd",
   "metadata": {},
   "outputs": [],
   "source": [
    "def returned_from_wos_before_dedup():\n",
    "    '''\n",
    "    Returns the number from Web of Science BEFORE deduplication.\n",
    "    '''\n",
    "    return len(pd.read_csv(WOS))"
   ]
  },
  {
   "cell_type": "code",
   "execution_count": 15,
   "id": "480c4c31-878c-4ce5-bad5-737a0527b387",
   "metadata": {},
   "outputs": [],
   "source": [
    "def returned_unique_papers():\n",
    "    '''\n",
    "    Returns the number from unique papers after dedup\n",
    "    '''\n",
    "    return len(pd.read_csv(UNIQUE))"
   ]
  },
  {
   "cell_type": "code",
   "execution_count": 16,
   "id": "5466a1c4-613f-464a-a57e-5d4dc7cadd95",
   "metadata": {},
   "outputs": [],
   "source": [
    "def graph_prisma(data, filename='prisma.dot', show_subgraph=True):\n",
    "    '''\n",
    "    Create PRISMA flow diagram for literature review\n",
    "\n",
    "    The output is saved in a dot format file.\n",
    "\n",
    "    Params:\n",
    "    -------\n",
    "    data: dict\n",
    "      Dictionary of data items\n",
    "      \n",
    "    Returns:\n",
    "    --------\n",
    "    Diagraph\n",
    "\n",
    "    '''\n",
    "    g = Digraph('PRISMA', filename=filename)\n",
    "\n",
    "    #g.attr(label=r\"\\n\\nPrisma Flow Diagram\")\n",
    "    # need to use layout='neato' to control exact position /\n",
    "    g.attr(fontsize='14')\n",
    "    \n",
    "    common_attributes = {'width':'2cm', 'height':'1cm'}\n",
    "\n",
    "    node1_txt = f\"Records identified from: \\nScopus \" \\\n",
    "        + f\"(n = {str(data['scopus_n'])}) \\nPubMed \" \\\n",
    "        + f\"(n = {str(data['pubmed_n'])}) \\nACM \" \\\n",
    "        + f\"(n = {str(data['acm_n'])}) \\nWoS \" \\\n",
    "        + f\"(n = {str(data['wos_n'])})\"\n",
    "    # if using neato could try pos argument e.g. pos='1,2'\n",
    "    node1 = g.node('A', node1_txt, shape='rectangle', **common_attributes)\n",
    "\n",
    "    node2_txt = f\"Records removed:\\n\" \\\n",
    "        + f\"duplicates (n = {str(data['n_duplicates'])})\"\n",
    "    node2 = g.node('B', node2_txt, shape='rectangle', **common_attributes)\n",
    "\n",
    "    node3_txt = f\"Records screened\\n (n = {str(data['n_title_abstract'])})\"\n",
    "    node3 = g.node('C', node3_txt, shape='rectangle', **common_attributes)\n",
    "\n",
    "    node4_txt = f\"Records excluded\\n \" \\\n",
    "        + f\"(n = {str(data['n_abstracts_excluded'])})\"\n",
    "    node4 = g.node('D', node4_txt, shape='rectangle', **common_attributes)\n",
    "\n",
    "    node5_txt = f\"Papers sought for retrieval\\n \" \\\n",
    "        + f\"(n = {str(data['n_to_retrieve'])})\"\n",
    "    node5 = g.node('E', node5_txt, shape='rectangle', **common_attributes)\n",
    "\n",
    "    node6_txt = f\"Papers not retrieved\\n (n = {str(data['n_not_retrieved'])})\"\n",
    "    node6 = g.node('F', node6_txt, shape='rectangle', **common_attributes)\n",
    "\n",
    "    node6_txt = f\"Papers assessed for eligibility\\n\" \\\n",
    "        + f\"(n = {str(data['n_assessed'])})\"\n",
    "    node6 = g.node('G', node6_txt, shape='rectangle', **common_attributes)\n",
    "\n",
    "\n",
    "    # excluded reasons\n",
    "    node8_txt = f\"Excluded at full text:\\n\" \\\n",
    "        + f\"{data['exclude_reason1']} (n = {str(data['n_exclude_reason1'])})\\n\"\\\n",
    "        + f\"{data['exclude_reason2']} (n = {str(data['n_exclude_reason2'])})\\n\"\\\n",
    "        + f\"{data['exclude_reason3']} (n = {str(data['n_exclude_reason3'])})\\n\"\\\n",
    "        + f\"{data['exclude_reason4']} (n = {str(data['n_exclude_reason4'])})\"\n",
    "    node8 = g.node('I', node8_txt, shape='rectangle')\n",
    "    \n",
    "    node7_txt = f\"Studies included in review\\n(n = {str(data['n_included'])})\"\n",
    "    node7 = g.node('H', node7_txt, shape='rectangle', **common_attributes)\n",
    "\n",
    "    g.edges(['AB', 'AC', 'CD', 'CE', 'EF', 'EG', 'GI', 'GH'])\n",
    "\n",
    "\n",
    "    if show_subgraph:\n",
    "        # subnodes for best practice audit\n",
    "        snode1_txt = f\"Available models\\n n = {str(data['available_models_n'])}\" \n",
    "        snode1 = g.node('H0', snode1_txt)\n",
    "\n",
    "        snode2_txt = f\"Included studies \\n n = {str(data['n_included'])}\"\n",
    "        snode2 = g.node('H1', snode2_txt)\n",
    "\n",
    "        snode3_txt = f\"Percentage of models shared \\n {str(data['percent'])}\"\n",
    "        snode3 = g.node('H2', snode3_txt)\n",
    "\n",
    "        with g.subgraph(name='cluster_1') as c:\n",
    "            c.attr(color='blue')\n",
    "            c.node_attr['style'] = 'filled'\n",
    "            c.edges([('H0', 'H2'), ('H1', 'H2')])\n",
    "            c.attr(label=\"Available DES models\")\n",
    "\n",
    "    g.save(filename)\n",
    "    return g"
   ]
  },
  {
   "cell_type": "code",
   "execution_count": 17,
   "id": "1644444b-8745-4a06-acf8-d6db18b0774b",
   "metadata": {},
   "outputs": [],
   "source": [
    "def results_in_r_shiney_format(file_name):\n",
    "    '''\n",
    "    Format results so they can be uploaded to R Shiney app that creates\n",
    "    a 2020 compliant PRISMA diagram.\n",
    "    \n",
    "    Params:\n",
    "    ------\n",
    "    file_name: str\n",
    "        File path for prisma template compatible with app.\n",
    "    \n",
    "    Returns:\n",
    "    --------\n",
    "    pd.DataFrame\n",
    "    \n",
    "    References:\n",
    "    ------\n",
    "    Haddaway, N. R., Page, M. J., Pritchard, C. C., & McGuinness, L. A. (2022). \n",
    "    PRISMA2020: An R package and Shiny app for producing PRISMA 2020-compliant \n",
    "    flow diagrams, with interactivity for optimised digital transparency \n",
    "    and Open Synthesis Campbell Systematic Reviews, 18, e1230. \n",
    "    https://doi.org/10.1002/cl2.1230\n",
    "    \n",
    "    https://estech.shinyapps.io/prisma_flowdiagram/\n",
    "    '''\n",
    "    \n",
    "    # load template\n",
    "    shiney_template = pd.read_csv(TEMPLATE_FILE, index_col='data')\n",
    "    \n",
    "    database_specific_results = f\"Scopus, {data['scopus_n']}; \" \\\n",
    "    + f\"PubMed, {data['pubmed_n']};  \" \\\n",
    "    + f\"ACM, {data['acm_n']}; WoS, {data['wos_n']}\"\n",
    "\n",
    "    dbr_excluded = f\"{EXCLUDED_REASON_1}, \" \\\n",
    "        + f\"{excluded_count(clean_pre_fs, EXCLUDED_REASON_1)}; \" \\\n",
    "        + f\"{EXCLUDED_REASON_2}, \" \\\n",
    "        + f\"{excluded_count(clean_pre_fs, EXCLUDED_REASON_2)}; \" \\\n",
    "        + f\"{EXCLUDED_REASON_3}, \" \\\n",
    "        + f\"{excluded_count(clean_pre_fs, EXCLUDED_REASON_3)}; \"\n",
    "\n",
    "    other_excluded = f\"{EXCLUDED_REASON_2}, \" \\\n",
    "        + f\"{excluded_count(clean_fs_assessed, EXCLUDED_REASON_2)}; \" \\\n",
    "        + f\"Preprint, \" \\\n",
    "        + f\"{excluded_count(clean_fs_assessed, EXCLUDED_REASON_4)};\"\n",
    "    \n",
    "    # database search results\n",
    "    shiney_template.loc['database_specific_results', 'n'] = \\\n",
    "        database_specific_results\n",
    "\n",
    "    shiney_template.loc['database_specific_results', 'node'] = 'node7'\n",
    "\n",
    "    shiney_template.loc['database_results', 'n'] = 'NaN'\n",
    "    shiney_template.loc['register_results', 'n'] = 'NaN'\n",
    "\n",
    "    # duplicates\n",
    "    shiney_template.loc['duplicates', 'n'] = data['n_duplicates']\n",
    "    shiney_template.loc['excluded_automatic', 'n'] = 'NaN'\n",
    "    shiney_template.loc['excluded_other', 'n'] = 'NaN'\n",
    "\n",
    "    # records screened (no. titles and abstracts) and excluded at stage 1\n",
    "    shiney_template.loc['records_screened', 'n'] = data['n_title_abstract']\n",
    "    # excluded at stage 1\n",
    "    shiney_template.loc['records_excluded', 'n'] = data['n_abstracts_excluded']\n",
    "\n",
    "    # papers sort for retrieval and not retrieved at stage 2 (full text)\n",
    "    shiney_template.loc['dbr_sought_reports', 'n'] = data['n_to_retrieve']\n",
    "    shiney_template.loc['dbr_notretrieved_reports', 'n'] = \\\n",
    "        data['n_not_retrieved']\n",
    "\n",
    "    # papers assessed and excluded + reasons\n",
    "    shiney_template.loc['dbr_assessed', 'n'] = data['n_assessed']\n",
    "    shiney_template.loc['dbr_excluded', 'n'] = dbr_excluded\n",
    "\n",
    "    # studies included in review\n",
    "    shiney_template.loc['new_studies', 'n'] = data['n_included_after_fs']\n",
    "    shiney_template.loc['new_reports', 'n'] = 'NaN'\n",
    "\n",
    "    # forward search via spidercite\n",
    "    shiney_template.loc['citations_results', 'n'] = data['n_forward_search']\n",
    "    shiney_template.loc['citations_results', 'boxtext'] = 'Spidercite'\n",
    "    shiney_template.loc['organisation_results', 'n'] = 'NaN'\n",
    "    shiney_template.loc['website_results', 'n'] = 'NaN'\n",
    "\n",
    "    shiney_template.loc['other_sought_reports', 'n'] = \\\n",
    "        data['n_forward_included']\n",
    "    shiney_template.loc['other_notretrieved_reports', 'n'] = 0\n",
    "\n",
    "    # included excluded\n",
    "    shiney_template.loc['other_assessed', 'n'] =  data['n_forward_included']\n",
    "    shiney_template.loc['other_excluded', 'n'] =  other_excluded\n",
    "    \n",
    "    return shiney_template"
   ]
  },
  {
   "cell_type": "markdown",
   "id": "749add08-8e4b-4bcb-b5fd-ef501da86f6e",
   "metadata": {
    "tags": []
   },
   "source": [
    "## 4. Read in data"
   ]
  },
  {
   "cell_type": "code",
   "execution_count": 18,
   "id": "62a7c6ca-4def-41cd-ad46-a69e35cc45b0",
   "metadata": {},
   "outputs": [],
   "source": [
    "# studies from main databases search\n",
    "clean_pre_fs = load_clean_dataset(PRE_FS)\n",
    "\n",
    "# studies found using forward search via spidercite\n",
    "df_fs = pd.read_csv(FORWARD_SEARCH)\n",
    "\n",
    "# studies assessed after forward search screening\n",
    "clean_fs_assessed = load_clean_dataset(FS_ASSESSED)\n",
    "\n",
    "# all students including those from forward search\n",
    "clean = load_clean_dataset(FILE_NAME)\n"
   ]
  },
  {
   "cell_type": "markdown",
   "id": "e043bde7-895e-4f8d-a0d3-8afb589a27ac",
   "metadata": {},
   "source": [
    "## 3. Diagram Data Input\n",
    "The constant below represent values obtained from searching Scopus and Pubmed and cannot be generated from our dataset."
   ]
  },
  {
   "cell_type": "code",
   "execution_count": 19,
   "id": "ee65ff66-2bb8-433a-9897-9f9c8ed08648",
   "metadata": {},
   "outputs": [],
   "source": [
    "# totals by database\n",
    "N_SCOPUS = returned_from_scopus_before_dedup()\n",
    "N_PUBMED = returned_from_pubmed_before_dedup()\n",
    "N_ACM = returned_from_acm_before_dedup()\n",
    "N_WOS = returned_from_wos_before_dedup()\n",
    "N_TOTAL = N_SCOPUS + N_PUBMED + N_ACM + N_WOS \n",
    "\n",
    "# no. unique papers after semi-automated dedup\n",
    "N_UNIQUE = returned_unique_papers()\n",
    "\n",
    "# no. duplicates removed.\n",
    "DUPLICATES_REMOVED = N_TOTAL - N_UNIQUE\n",
    "\n",
    "# total abstracts/titles to sceen in stage 1\n",
    "N_TITLE_ABSTRACTS = N_UNIQUE\n",
    "\n",
    "# number excluded by stage 1 screening process\n",
    "N_ABSTRACTS_EXCLUDED = N_UNIQUE - studies_to_retrieve(clean_pre_fs) \n",
    "\n",
    "# reasons for exclusion in stage 2 (excluding not able to retrieve)\n",
    "EXCLUDED_REASON_1 = \"Not English\"\n",
    "EXCLUDED_REASON_2 = \"Not DES\"\n",
    "EXCLUDED_REASON_3 = \"Not Health\"\n",
    "EXCLUDED_REASON_4 = \"PRE PRINT\""
   ]
  },
  {
   "cell_type": "code",
   "execution_count": 20,
   "id": "3aebc1a9-2c8c-42df-aab6-53a6e0757483",
   "metadata": {},
   "outputs": [],
   "source": [
    "#  script for prisma\n",
    "data = {}\n",
    "data['scopus_n'] = N_SCOPUS\n",
    "data['pubmed_n'] = N_PUBMED\n",
    "data['acm_n'] = N_ACM\n",
    "data['wos_n'] = N_WOS\n",
    "data['unique_n'] = N_UNIQUE\n",
    "data['n_duplicates'] = DUPLICATES_REMOVED\n",
    "data['n_title_abstract'] = N_TITLE_ABSTRACTS\n",
    "data['n_abstracts_excluded'] = N_ABSTRACTS_EXCLUDED\n",
    "data['n_to_retrieve'] = studies_to_retrieve(clean_pre_fs)\n",
    "data['n_not_retrieved'] = papers_not_retrieved(clean_pre_fs)\n",
    "data['n_assessed'] = studies_to_retrieve(clean_pre_fs) \\\n",
    "    - papers_not_retrieved(clean_pre_fs)\n",
    "data['n_included'] = number_studies_included(clean_pre_fs)\n",
    "data['exclude_reason1'] = EXCLUDED_REASON_1\n",
    "data['exclude_reason2'] = EXCLUDED_REASON_2\n",
    "data['exclude_reason3'] = EXCLUDED_REASON_3\n",
    "data['exclude_reason4'] = EXCLUDED_REASON_4\n",
    "data['n_exclude_reason1'] = excluded_count(clean_pre_fs, EXCLUDED_REASON_1)\n",
    "data['n_exclude_reason2'] = excluded_count(clean_pre_fs, EXCLUDED_REASON_2)\n",
    "data['n_exclude_reason3'] = excluded_count(clean_pre_fs, EXCLUDED_REASON_3)\n",
    "data['n_exclude_reason4'] = excluded_count(clean_pre_fs, EXCLUDED_REASON_4)\n",
    "data['available_models_n'] = models_with_code(clean_pre_fs)\n",
    "data['percent'] = round((models_with_code(clean_pre_fs) / \\\n",
    "                         number_studies_included(clean_pre_fs)) \\\n",
    "                        * 100, 1)"
   ]
  },
  {
   "cell_type": "code",
   "execution_count": 21,
   "id": "fe4c4337-a590-4184-9345-a638016c1cda",
   "metadata": {},
   "outputs": [
    {
     "data": {
      "image/svg+xml": [
       "<?xml version=\"1.0\" encoding=\"UTF-8\" standalone=\"no\"?>\n",
       "<!DOCTYPE svg PUBLIC \"-//W3C//DTD SVG 1.1//EN\"\n",
       " \"http://www.w3.org/Graphics/SVG/1.1/DTD/svg11.dtd\">\n",
       "<!-- Generated by graphviz version 7.0.6 (20230107.1202)\n",
       " -->\n",
       "<!-- Title: PRISMA Pages: 1 -->\n",
       "<svg width=\"670pt\" height=\"534pt\"\n",
       " viewBox=\"0.00 0.00 670.00 534.00\" xmlns=\"http://www.w3.org/2000/svg\" xmlns:xlink=\"http://www.w3.org/1999/xlink\">\n",
       "<g id=\"graph0\" class=\"graph\" transform=\"scale(1 1) rotate(0) translate(4 530)\">\n",
       "<title>PRISMA</title>\n",
       "<polygon fill=\"white\" stroke=\"none\" points=\"-4,4 -4,-530 666,-530 666,4 -4,4\"/>\n",
       "<!-- A -->\n",
       "<g id=\"node1\" class=\"node\">\n",
       "<title>A</title>\n",
       "<polygon fill=\"none\" stroke=\"black\" points=\"263,-526 69,-526 69,-443 263,-443 263,-526\"/>\n",
       "<text text-anchor=\"middle\" x=\"166\" y=\"-510.8\" font-family=\"Times,serif\" font-size=\"14.00\">Records identified from: </text>\n",
       "<text text-anchor=\"middle\" x=\"166\" y=\"-495.8\" font-family=\"Times,serif\" font-size=\"14.00\">Scopus (n = 726) </text>\n",
       "<text text-anchor=\"middle\" x=\"166\" y=\"-480.8\" font-family=\"Times,serif\" font-size=\"14.00\">PubMed (n = 407) </text>\n",
       "<text text-anchor=\"middle\" x=\"166\" y=\"-465.8\" font-family=\"Times,serif\" font-size=\"14.00\">ACM (n = 25) </text>\n",
       "<text text-anchor=\"middle\" x=\"166\" y=\"-450.8\" font-family=\"Times,serif\" font-size=\"14.00\">WoS (n = 650)</text>\n",
       "</g>\n",
       "<!-- B -->\n",
       "<g id=\"node2\" class=\"node\">\n",
       "<title>B</title>\n",
       "<polygon fill=\"none\" stroke=\"black\" points=\"162,-407 0,-407 0,-335 162,-335 162,-407\"/>\n",
       "<text text-anchor=\"middle\" x=\"81\" y=\"-374.8\" font-family=\"Times,serif\" font-size=\"14.00\">Records removed:</text>\n",
       "<text text-anchor=\"middle\" x=\"81\" y=\"-359.8\" font-family=\"Times,serif\" font-size=\"14.00\">duplicates (n = 750)</text>\n",
       "</g>\n",
       "<!-- A&#45;&gt;B -->\n",
       "<g id=\"edge1\" class=\"edge\">\n",
       "<title>A&#45;&gt;B</title>\n",
       "<path fill=\"none\" stroke=\"black\" d=\"M134.83,-442.61C128.29,-434.03 121.36,-424.95 114.73,-416.25\"/>\n",
       "<polygon fill=\"black\" stroke=\"black\" points=\"117.73,-414.4 108.88,-408.57 112.16,-418.65 117.73,-414.4\"/>\n",
       "</g>\n",
       "<!-- C -->\n",
       "<g id=\"node3\" class=\"node\">\n",
       "<title>C</title>\n",
       "<polygon fill=\"none\" stroke=\"black\" points=\"324,-407 180,-407 180,-335 324,-335 324,-407\"/>\n",
       "<text text-anchor=\"middle\" x=\"252\" y=\"-374.8\" font-family=\"Times,serif\" font-size=\"14.00\">Records screened</text>\n",
       "<text text-anchor=\"middle\" x=\"252\" y=\"-359.8\" font-family=\"Times,serif\" font-size=\"14.00\"> (n = 1058)</text>\n",
       "</g>\n",
       "<!-- A&#45;&gt;C -->\n",
       "<g id=\"edge2\" class=\"edge\">\n",
       "<title>A&#45;&gt;C</title>\n",
       "<path fill=\"none\" stroke=\"black\" d=\"M197.53,-442.61C204.15,-434.03 211.16,-424.95 217.87,-416.25\"/>\n",
       "<polygon fill=\"black\" stroke=\"black\" points=\"220.46,-418.62 223.8,-408.57 214.92,-414.35 220.46,-418.62\"/>\n",
       "</g>\n",
       "<!-- D -->\n",
       "<g id=\"node4\" class=\"node\">\n",
       "<title>D</title>\n",
       "<polygon fill=\"none\" stroke=\"black\" points=\"227,-299 83,-299 83,-227 227,-227 227,-299\"/>\n",
       "<text text-anchor=\"middle\" x=\"155\" y=\"-266.8\" font-family=\"Times,serif\" font-size=\"14.00\">Records excluded</text>\n",
       "<text text-anchor=\"middle\" x=\"155\" y=\"-251.8\" font-family=\"Times,serif\" font-size=\"14.00\"> (n = 403)</text>\n",
       "</g>\n",
       "<!-- C&#45;&gt;D -->\n",
       "<g id=\"edge3\" class=\"edge\">\n",
       "<title>C&#45;&gt;D</title>\n",
       "<path fill=\"none\" stroke=\"black\" d=\"M219.7,-334.7C211.77,-326.03 203.18,-316.65 194.93,-307.63\"/>\n",
       "<polygon fill=\"black\" stroke=\"black\" points=\"197.51,-305.27 188.18,-300.26 192.35,-310 197.51,-305.27\"/>\n",
       "</g>\n",
       "<!-- E -->\n",
       "<g id=\"node5\" class=\"node\">\n",
       "<title>E</title>\n",
       "<polygon fill=\"none\" stroke=\"black\" points=\"454.5,-299 245.5,-299 245.5,-227 454.5,-227 454.5,-299\"/>\n",
       "<text text-anchor=\"middle\" x=\"350\" y=\"-266.8\" font-family=\"Times,serif\" font-size=\"14.00\">Papers sought for retrieval</text>\n",
       "<text text-anchor=\"middle\" x=\"350\" y=\"-251.8\" font-family=\"Times,serif\" font-size=\"14.00\"> (n = 655)</text>\n",
       "</g>\n",
       "<!-- C&#45;&gt;E -->\n",
       "<g id=\"edge4\" class=\"edge\">\n",
       "<title>C&#45;&gt;E</title>\n",
       "<path fill=\"none\" stroke=\"black\" d=\"M284.63,-334.7C292.73,-325.94 301.51,-316.45 309.92,-307.35\"/>\n",
       "<polygon fill=\"black\" stroke=\"black\" points=\"312.26,-309.97 316.48,-300.25 307.12,-305.22 312.26,-309.97\"/>\n",
       "</g>\n",
       "<!-- F -->\n",
       "<g id=\"node6\" class=\"node\">\n",
       "<title>F</title>\n",
       "<polygon fill=\"none\" stroke=\"black\" points=\"324,-191 160,-191 160,-119 324,-119 324,-191\"/>\n",
       "<text text-anchor=\"middle\" x=\"242\" y=\"-158.8\" font-family=\"Times,serif\" font-size=\"14.00\">Papers not retrieved</text>\n",
       "<text text-anchor=\"middle\" x=\"242\" y=\"-143.8\" font-family=\"Times,serif\" font-size=\"14.00\"> (n = 49)</text>\n",
       "</g>\n",
       "<!-- E&#45;&gt;F -->\n",
       "<g id=\"edge5\" class=\"edge\">\n",
       "<title>E&#45;&gt;F</title>\n",
       "<path fill=\"none\" stroke=\"black\" d=\"M314.04,-226.7C305.02,-217.85 295.24,-208.26 285.89,-199.08\"/>\n",
       "<polygon fill=\"black\" stroke=\"black\" points=\"288.47,-196.71 278.89,-192.2 283.57,-201.71 288.47,-196.71\"/>\n",
       "</g>\n",
       "<!-- G -->\n",
       "<g id=\"node7\" class=\"node\">\n",
       "<title>G</title>\n",
       "<polygon fill=\"none\" stroke=\"black\" points=\"572,-191 342,-191 342,-119 572,-119 572,-191\"/>\n",
       "<text text-anchor=\"middle\" x=\"457\" y=\"-158.8\" font-family=\"Times,serif\" font-size=\"14.00\">Papers assessed for eligibility</text>\n",
       "<text text-anchor=\"middle\" x=\"457\" y=\"-143.8\" font-family=\"Times,serif\" font-size=\"14.00\">(n = 606)</text>\n",
       "</g>\n",
       "<!-- E&#45;&gt;G -->\n",
       "<g id=\"edge6\" class=\"edge\">\n",
       "<title>E&#45;&gt;G</title>\n",
       "<path fill=\"none\" stroke=\"black\" d=\"M385.63,-226.7C394.56,-217.85 404.25,-208.26 413.52,-199.08\"/>\n",
       "<polygon fill=\"black\" stroke=\"black\" points=\"415.81,-201.73 420.45,-192.21 410.88,-196.76 415.81,-201.73\"/>\n",
       "</g>\n",
       "<!-- I -->\n",
       "<g id=\"node8\" class=\"node\">\n",
       "<title>I</title>\n",
       "<polygon fill=\"none\" stroke=\"black\" points=\"437.5,-83 270.5,-83 270.5,0 437.5,0 437.5,-83\"/>\n",
       "<text text-anchor=\"middle\" x=\"354\" y=\"-67.8\" font-family=\"Times,serif\" font-size=\"14.00\">Excluded at full text:</text>\n",
       "<text text-anchor=\"middle\" x=\"354\" y=\"-52.8\" font-family=\"Times,serif\" font-size=\"14.00\">Not English (n = 5)</text>\n",
       "<text text-anchor=\"middle\" x=\"354\" y=\"-37.8\" font-family=\"Times,serif\" font-size=\"14.00\">Not DES (n = 41)</text>\n",
       "<text text-anchor=\"middle\" x=\"354\" y=\"-22.8\" font-family=\"Times,serif\" font-size=\"14.00\">Not Health (n = 1)</text>\n",
       "<text text-anchor=\"middle\" x=\"354\" y=\"-7.8\" font-family=\"Times,serif\" font-size=\"14.00\">PRE PRINT (n = 0)</text>\n",
       "</g>\n",
       "<!-- G&#45;&gt;I -->\n",
       "<g id=\"edge7\" class=\"edge\">\n",
       "<title>G&#45;&gt;I</title>\n",
       "<path fill=\"none\" stroke=\"black\" d=\"M424.41,-118.72C416.47,-110.12 407.83,-100.77 399.41,-91.66\"/>\n",
       "<polygon fill=\"black\" stroke=\"black\" points=\"402.15,-89.47 392.8,-84.5 397.01,-94.22 402.15,-89.47\"/>\n",
       "</g>\n",
       "<!-- H -->\n",
       "<g id=\"node9\" class=\"node\">\n",
       "<title>H</title>\n",
       "<polygon fill=\"none\" stroke=\"black\" points=\"662,-77.5 456,-77.5 456,-5.5 662,-5.5 662,-77.5\"/>\n",
       "<text text-anchor=\"middle\" x=\"559\" y=\"-45.3\" font-family=\"Times,serif\" font-size=\"14.00\">Studies included in review</text>\n",
       "<text text-anchor=\"middle\" x=\"559\" y=\"-30.3\" font-family=\"Times,serif\" font-size=\"14.00\">(n = 559)</text>\n",
       "</g>\n",
       "<!-- G&#45;&gt;H -->\n",
       "<g id=\"edge8\" class=\"edge\">\n",
       "<title>G&#45;&gt;H</title>\n",
       "<path fill=\"none\" stroke=\"black\" d=\"M489.27,-118.72C498.67,-108.45 509.05,-97.1 518.86,-86.37\"/>\n",
       "<polygon fill=\"black\" stroke=\"black\" points=\"521.4,-88.79 525.56,-79.05 516.23,-84.07 521.4,-88.79\"/>\n",
       "</g>\n",
       "</g>\n",
       "</svg>\n"
      ],
      "text/plain": [
       "<graphviz.graphs.Digraph at 0x7f32f39e5850>"
      ]
     },
     "execution_count": 21,
     "metadata": {},
     "output_type": "execute_result"
    }
   ],
   "source": [
    " # Pre - forward search\n",
    "g = graph_prisma(data, show_subgraph=False)\n",
    "g"
   ]
  },
  {
   "cell_type": "code",
   "execution_count": 22,
   "id": "c3833d07-d7f7-4b6b-8fdf-15e3d58f2382",
   "metadata": {},
   "outputs": [],
   "source": [
    "# save to file\n",
    "(graph,) = pydot.graph_from_dot_file('prisma.dot')\n",
    "graph.set_dpi(400)\n",
    "graph.write_png('prisma.png')"
   ]
  },
  {
   "cell_type": "markdown",
   "id": "272ed71b-0949-4e1f-89f5-c041c5450e0e",
   "metadata": {},
   "source": [
    "## Forward Search\n",
    "\n",
    "The forward search was conducted using spidercite.  We uploaded the papers that contained code only. "
   ]
  },
  {
   "cell_type": "code",
   "execution_count": 23,
   "id": "9bd459e1-ab7c-4aff-9036-415759835f8a",
   "metadata": {},
   "outputs": [],
   "source": [
    "data['n_forward_search'] = len(df_fs)\n",
    "data['n_forward_included'] = len(clean) - len(clean_pre_fs)"
   ]
  },
  {
   "cell_type": "code",
   "execution_count": 24,
   "id": "b40aaec7-47c3-4fae-a179-b0302266b7ed",
   "metadata": {},
   "outputs": [
    {
     "data": {
      "text/plain": [
       "430"
      ]
     },
     "execution_count": 24,
     "metadata": {},
     "output_type": "execute_result"
    }
   ],
   "source": [
    "data['n_forward_search']"
   ]
  },
  {
   "cell_type": "code",
   "execution_count": 25,
   "id": "4cfb7e4e-0c1e-401e-89b4-63d4d6400aad",
   "metadata": {},
   "outputs": [
    {
     "data": {
      "text/plain": [
       "10"
      ]
     },
     "execution_count": 25,
     "metadata": {},
     "output_type": "execute_result"
    }
   ],
   "source": [
    "data['n_forward_included']"
   ]
  },
  {
   "cell_type": "code",
   "execution_count": 26,
   "id": "dcae1aa8-11d6-4e27-822e-076cb566c1df",
   "metadata": {},
   "outputs": [],
   "source": [
    "data['n_included_after_fs'] = number_studies_included(clean)"
   ]
  },
  {
   "cell_type": "code",
   "execution_count": 27,
   "id": "ed93d11e-b1e7-4139-88a9-f0c08fe0f5e4",
   "metadata": {},
   "outputs": [
    {
     "data": {
      "text/plain": [
       "564"
      ]
     },
     "execution_count": 27,
     "metadata": {},
     "output_type": "execute_result"
    }
   ],
   "source": [
    "data['n_included_after_fs']"
   ]
  },
  {
   "cell_type": "markdown",
   "id": "5340a3c1-c69e-443a-ab24-676a03890af1",
   "metadata": {},
   "source": [
    "## Add results to PRISMA template via R Shiney App"
   ]
  },
  {
   "cell_type": "code",
   "execution_count": 28,
   "id": "0e725e93-2435-4751-9cfd-af2c8fd2bb93",
   "metadata": {},
   "outputs": [],
   "source": [
    "shiney_template = results_in_r_shiney_format(TEMPLATE_FILE)"
   ]
  },
  {
   "cell_type": "code",
   "execution_count": 29,
   "id": "27182ba2-bfce-4cd9-ae2b-18e81c1bd996",
   "metadata": {},
   "outputs": [
    {
     "data": {
      "text/html": [
       "<div>\n",
       "<style scoped>\n",
       "    .dataframe tbody tr th:only-of-type {\n",
       "        vertical-align: middle;\n",
       "    }\n",
       "\n",
       "    .dataframe tbody tr th {\n",
       "        vertical-align: top;\n",
       "    }\n",
       "\n",
       "    .dataframe thead th {\n",
       "        text-align: right;\n",
       "    }\n",
       "</style>\n",
       "<table border=\"1\" class=\"dataframe\">\n",
       "  <thead>\n",
       "    <tr style=\"text-align: right;\">\n",
       "      <th></th>\n",
       "      <th>node</th>\n",
       "      <th>box</th>\n",
       "      <th>description</th>\n",
       "      <th>boxtext</th>\n",
       "      <th>tooltips</th>\n",
       "      <th>url</th>\n",
       "      <th>n</th>\n",
       "      <th>Unnamed: 8</th>\n",
       "      <th>Unnamed: 9</th>\n",
       "    </tr>\n",
       "    <tr>\n",
       "      <th>data</th>\n",
       "      <th></th>\n",
       "      <th></th>\n",
       "      <th></th>\n",
       "      <th></th>\n",
       "      <th></th>\n",
       "      <th></th>\n",
       "      <th></th>\n",
       "      <th></th>\n",
       "      <th></th>\n",
       "    </tr>\n",
       "  </thead>\n",
       "  <tbody>\n",
       "    <tr>\n",
       "      <th>NaN</th>\n",
       "      <td>node4</td>\n",
       "      <td>prevstud</td>\n",
       "      <td>Grey title box</td>\n",
       "      <td>Previous studies</td>\n",
       "      <td>Previous studies</td>\n",
       "      <td>Grey title box</td>\n",
       "      <td>Previous studies</td>\n",
       "      <td>prevstud.html</td>\n",
       "      <td>0.0</td>\n",
       "    </tr>\n",
       "    <tr>\n",
       "      <th>previous_studies</th>\n",
       "      <td>node5</td>\n",
       "      <td>box1</td>\n",
       "      <td>Studies included in previous version of review</td>\n",
       "      <td>Studies included in previous version of review</td>\n",
       "      <td>Studies included in previous version of review</td>\n",
       "      <td>previous_studies.html</td>\n",
       "      <td>0</td>\n",
       "      <td>NaN</td>\n",
       "      <td>NaN</td>\n",
       "    </tr>\n",
       "  </tbody>\n",
       "</table>\n",
       "</div>"
      ],
      "text/plain": [
       "                   node       box  \\\n",
       "data                                \n",
       "NaN               node4  prevstud   \n",
       "previous_studies  node5      box1   \n",
       "\n",
       "                                                     description  \\\n",
       "data                                                               \n",
       "NaN                                               Grey title box   \n",
       "previous_studies  Studies included in previous version of review   \n",
       "\n",
       "                                                         boxtext  \\\n",
       "data                                                               \n",
       "NaN                                             Previous studies   \n",
       "previous_studies  Studies included in previous version of review   \n",
       "\n",
       "                                                        tooltips  \\\n",
       "data                                                               \n",
       "NaN                                             Previous studies   \n",
       "previous_studies  Studies included in previous version of review   \n",
       "\n",
       "                                    url                  n     Unnamed: 8  \\\n",
       "data                                                                        \n",
       "NaN                      Grey title box   Previous studies  prevstud.html   \n",
       "previous_studies  previous_studies.html                  0            NaN   \n",
       "\n",
       "                  Unnamed: 9  \n",
       "data                          \n",
       "NaN                      0.0  \n",
       "previous_studies         NaN  "
      ]
     },
     "execution_count": 29,
     "metadata": {},
     "output_type": "execute_result"
    }
   ],
   "source": [
    "shiney_template.head(2)"
   ]
  },
  {
   "cell_type": "code",
   "execution_count": 30,
   "id": "f90201e5-e719-433f-820e-fa11e1c04394",
   "metadata": {},
   "outputs": [],
   "source": [
    "# save to file so can be uploaded.\n",
    "shiney_template.to_csv('completed_prisma.csv')"
   ]
  },
  {
   "cell_type": "markdown",
   "id": "0fad3a55-32a3-4c82-bbb3-3d9849dbc29b",
   "metadata": {},
   "source": [
    "## Output from PRISMA diagram app."
   ]
  },
  {
   "cell_type": "code",
   "execution_count": 40,
   "id": "cc022681-88c5-4374-89a7-f34dd15996e1",
   "metadata": {},
   "outputs": [
    {
     "data": {
      "text/html": [
       "\n",
       "        <iframe\n",
       "            width=\"1050\"\n",
       "            height=\"600\"\n",
       "            src=\"./prisma.html\"\n",
       "            frameborder=\"0\"\n",
       "            allowfullscreen\n",
       "            \n",
       "        ></iframe>\n",
       "        "
      ],
      "text/plain": [
       "<IPython.lib.display.IFrame at 0x7f32f3b7e130>"
      ]
     },
     "execution_count": 40,
     "metadata": {},
     "output_type": "execute_result"
    }
   ],
   "source": [
    "from IPython.display import IFrame\n",
    "\n",
    "IFrame(src='./prisma.html', width=1050, height=600)"
   ]
  },
  {
   "cell_type": "code",
   "execution_count": null,
   "id": "fdb66270-345c-45c2-993d-e65076ac8ff8",
   "metadata": {},
   "outputs": [],
   "source": []
  }
 ],
 "metadata": {
  "kernelspec": {
   "display_name": "Python 3 (ipykernel)",
   "language": "python",
   "name": "python3"
  },
  "language_info": {
   "codemirror_mode": {
    "name": "ipython",
    "version": 3
   },
   "file_extension": ".py",
   "mimetype": "text/x-python",
   "name": "python",
   "nbconvert_exporter": "python",
   "pygments_lexer": "ipython3",
   "version": "3.9.15"
  }
 },
 "nbformat": 4,
 "nbformat_minor": 5
}
