{
 "cells": [
  {
   "cell_type": "markdown",
   "id": "f156ed3a-654e-4515-be9c-141dcd9332ae",
   "metadata": {},
   "source": [
    "# Prisma Diagram\n",
    "\n",
    "Here we provide a **P**referred **R**eporting **I**tems for **S**ystematic Reviews and **M**eta-**A**nalyses (PRISMA) diagram.  PRSIMA aims to improve the reporting of systematic reviews.  Full details of the PRISMA statement can be found on at [https://prisma-statement.org](https://prisma-statement.org)\n",
    "\n",
    "The flow diagram generated visualises the manuscripts returned from multiple database searches, duplicates, titles/abstracts screened in/out; and manuscripts included excluded during full text screening.\n",
    "\n",
    "## Overview of notebook\n",
    "\n",
    "This notebook uses the `graphviz` library to generate a flow diagram.  It is separated into four sections: imports; a function to create the flow diagram; a script to populate a `dict` with the findings from our study; and the code to run function and save the image to file.\n",
    "\n",
    "## Limitations\n",
    "\n",
    "Our published dataset contains all papers we **attempted to retrieve**.  This means we can only calculate statistics the full test screening stage of our review.  The number of papers retrieved from Scopus and Pubmed are hardcoded values.  We provide a notebook containing our search strings in order for to reproduce the exact search's we used prior to title and abstract screening."
   ]
  },
  {
   "cell_type": "markdown",
   "id": "93137fb3-d62c-4170-86f9-89113631b3d7",
   "metadata": {},
   "source": [
    "## 1. Imports\n",
    "\n",
    "### 1.1 Graphviz imports\n",
    "\n",
    "We have generated our PRSIMA diagram using `graphviz`"
   ]
  },
  {
   "cell_type": "code",
   "execution_count": 1,
   "id": "f220c932-4ba7-4dd2-890a-95b4a89d199b",
   "metadata": {},
   "outputs": [],
   "source": [
    "from graphviz import Digraph\n",
    "from graphviz import Graph\n",
    "import pydot"
   ]
  },
  {
   "cell_type": "markdown",
   "id": "931d9d75-1b94-4126-81c0-a8be171932f3",
   "metadata": {},
   "source": [
    "### 1.2 Standard imports"
   ]
  },
  {
   "cell_type": "code",
   "execution_count": 2,
   "id": "3a151ba6-837a-40db-92af-979929e01373",
   "metadata": {},
   "outputs": [],
   "source": [
    "import pandas as pd\n",
    "import numpy as np"
   ]
  },
  {
   "cell_type": "markdown",
   "id": "8b0a5778-7231-4694-a776-9b960dd2d7a0",
   "metadata": {},
   "source": [
    "### 1.3 Imports from preprocessing module"
   ]
  },
  {
   "cell_type": "code",
   "execution_count": 3,
   "id": "ad7e0ba9-49c7-4e73-97dc-0c71fff3f222",
   "metadata": {},
   "outputs": [],
   "source": [
    "# function for loading full dataset\n",
    "from preprocessing import load_clean_dataset"
   ]
  },
  {
   "cell_type": "markdown",
   "id": "d0bd364f-fcd7-424d-9bb6-ea86c101d2b8",
   "metadata": {},
   "source": [
    "## 2. Constants"
   ]
  },
  {
   "cell_type": "code",
   "execution_count": 4,
   "id": "a44388c9-8b41-491d-8a55-1bfa29b5381b",
   "metadata": {},
   "outputs": [],
   "source": [
    "FILE_NAME = 'https://raw.githubusercontent.com/TomMonks/' \\\n",
    "    + 'des_sharing_lit_review/main/data/share_sim_data_extract.zip'\n",
    "\n",
    "# pre-screnning file locations\n",
    "POST_FIX = '../../data/pre_screening/'\n",
    "SCOPUS = {'2019': POST_FIX + 'scopus_2019.zip',\n",
    "          '2020': POST_FIX + 'scopus_2020.zip',\n",
    "          '2021': POST_FIX + 'scopus_2021.zip',\n",
    "          '2022': POST_FIX + 'scopus_2022_part.zip'}\n",
    "PUBMED = POST_FIX + 'pubmed_part.zip'"
   ]
  },
  {
   "cell_type": "markdown",
   "id": "b69b4343-78be-449d-a3e2-7297b1facf67",
   "metadata": {},
   "source": [
    "## 3. Functions to create diagram\n",
    "\n",
    "We provide functions to calculate basic statistics for the dataset i.e.\n",
    "\n",
    "* number_studies_included\n",
    "* studies_to_retrieve\n",
    "* papers_not_retrieved\n",
    "* excluded_count\n",
    "* models_with_code\n",
    "\n",
    "And a function to create the `graphviz` based prisma diagram.\n",
    "\n",
    "* graph_prisma"
   ]
  },
  {
   "cell_type": "code",
   "execution_count": 5,
   "id": "de155d89-86c0-498a-b424-9ecce59f5afc",
   "metadata": {},
   "outputs": [],
   "source": [
    "def number_studies_included(df):\n",
    "    '''\n",
    "    Return the number of studies included after screening.\n",
    "    \n",
    "    Params:\n",
    "    ------\n",
    "    df: pd.DataFrame\n",
    "        The dataframe - expected to be the full study\n",
    "        \n",
    "    Returns:\n",
    "    -------\n",
    "    int\n",
    "    '''\n",
    "    return len(df[df['study_included'] == 1])"
   ]
  },
  {
   "cell_type": "code",
   "execution_count": 6,
   "id": "b9c6876d-8740-4d76-b13a-409e7d1cdd57",
   "metadata": {},
   "outputs": [],
   "source": [
    "def studies_to_retrieve(df):\n",
    "    '''\n",
    "    Return the number of studies to retrieve after screening\n",
    "    \n",
    "    Params:\n",
    "    ------\n",
    "    df: pd.DataFrame\n",
    "        The dataframe - expected to be the full study\n",
    "        \n",
    "    Returns:\n",
    "    -------\n",
    "    int\n",
    "    '''\n",
    "    return len(df)"
   ]
  },
  {
   "cell_type": "code",
   "execution_count": 7,
   "id": "311863a1-820b-4f66-b55f-d58639c50bb5",
   "metadata": {},
   "outputs": [],
   "source": [
    "def papers_not_retrieved(df):\n",
    "    '''\n",
    "    Return the number of studies not retrieved.\n",
    "    These are labelled as 'Full Text Not Availabe'\n",
    "    \n",
    "    Params:\n",
    "    ------\n",
    "    df: pd.DataFrame\n",
    "        The dataframe - expected to be the full study\n",
    "        \n",
    "    Returns:\n",
    "    -------\n",
    "    int\n",
    "    '''\n",
    "    return len(df[df['excluded_reason'] == 'Full Text Not Available'])"
   ]
  },
  {
   "cell_type": "code",
   "execution_count": 8,
   "id": "cb45b47e-bdf9-462a-99e7-a67d9a8bb267",
   "metadata": {},
   "outputs": [],
   "source": [
    "def excluded_count(df, reason):\n",
    "    '''\n",
    "    Return the number of studies excluded with a specific reason.\n",
    "    \n",
    "    Params:\n",
    "    ------\n",
    "    df: pd.DataFrame\n",
    "        The dataframe - expected to be the full study\n",
    "        \n",
    "    Returns:\n",
    "    -------\n",
    "    int\n",
    "    '''\n",
    "    return len(df[df['excluded_reason'] == reason])"
   ]
  },
  {
   "cell_type": "code",
   "execution_count": 9,
   "id": "42768e71-51c6-4284-ae1f-8d4069b0e4b7",
   "metadata": {},
   "outputs": [],
   "source": [
    "def models_with_code(df):\n",
    "    '''\n",
    "    Return the number of included studies that shared DES models.\n",
    "    \n",
    "    Params:\n",
    "    ------\n",
    "    df: pd.DataFrame\n",
    "        The dataframe - expected to be the full study\n",
    "        \n",
    "    Returns:\n",
    "    -------\n",
    "    int\n",
    "    '''\n",
    "    return len(df[(df['study_included'] == 1) & \n",
    "                   (df['model_code_available'] == 1)])"
   ]
  },
  {
   "cell_type": "code",
   "execution_count": 10,
   "id": "6c4e4281-bba5-4b2c-9e87-aefcf6b58e6d",
   "metadata": {},
   "outputs": [],
   "source": [
    "def returned_from_scopus_after_dedup():\n",
    "    '''\n",
    "    Returns the number from scopus after deduplication.\n",
    "    '''\n",
    "    total = 0\n",
    "    for yr in range(2019, 2023):\n",
    "        total += len(pd.read_csv(SCOPUS[str(yr)]))\n",
    "    return total"
   ]
  },
  {
   "cell_type": "code",
   "execution_count": 11,
   "id": "66fcb50a-5e41-4131-837b-4ed8058e0c48",
   "metadata": {},
   "outputs": [],
   "source": [
    "def returned_from_pubmed_before_dedup():\n",
    "    '''\n",
    "    Returns the number from scopus BEFORE deduplication.\n",
    "    '''\n",
    "    return len(pd.read_csv(PUBMED))"
   ]
  },
  {
   "cell_type": "code",
   "execution_count": 12,
   "id": "5466a1c4-613f-464a-a57e-5d4dc7cadd95",
   "metadata": {},
   "outputs": [],
   "source": [
    "def graph_prisma(data, filename='prisma.dot'):\n",
    "    '''\n",
    "    Create PRISMA flow diagram for literature review\n",
    "\n",
    "    The output is saved in a dot format file.\n",
    "\n",
    "    Params:\n",
    "    -------\n",
    "    data: dict\n",
    "      Dictionary of data items\n",
    "      \n",
    "    Returns:\n",
    "    --------\n",
    "    Diagraph\n",
    "\n",
    "    '''\n",
    "    g = Digraph('G', filename=filename)\n",
    "\n",
    "    #g.attr(label=r\"\\n\\nPrisma Flow Diagram\")\n",
    "    g.attr(fontsize='14')\n",
    "\n",
    "    node1_txt = f\"Records identified from: \\nScopus \" \\\n",
    "        + f\"(n = {str(data['scopus_n'])}) \\nPubMed \" \\\n",
    "        + f\"(n = {str(data['pubmed_n'])})\"\n",
    "    node1 = g.node('A', node1_txt, shape='rectangle')\n",
    "\n",
    "    node2_txt = f\"Records removed before screening:\\n\" \\\n",
    "        + f\"duplicates (n = {str(data['n_duplicates'])})\"\n",
    "    node2 = g.node('B', node2_txt, shape='rectangle')\n",
    "\n",
    "    node3_txt = f\"Records screened\\n (n = {str(data['n_title_abstract'])})\"\n",
    "    node3 = g.node('C', node3_txt, shape='rectangle')\n",
    "\n",
    "    node4_txt = f\"Records excluded\\n \" \\\n",
    "        + f\"(n = {str(data['n_abstracts_excluded'])})\"\n",
    "    node4 = g.node('D', node4_txt, shape='rectangle')\n",
    "\n",
    "    node5_txt = f\"Papers sought for retrieval\\n \" \\\n",
    "        + f\"(n = {str(data['n_to_retrieve'])})\"\n",
    "    node5 = g.node('E', node5_txt, shape='rectangle')\n",
    "\n",
    "    node6_txt = f\"Papers not retrieved\\n (n = {str(data['n_not_retrieved'])})\"\n",
    "    node6 = g.node('F', node6_txt, shape='rectangle')\n",
    "\n",
    "    node6_txt = f\"Papers assessed for eligibility\\n\" \\\n",
    "        + f\"(n = {str(data['n_assessed'])})\"\n",
    "    node6 = g.node('G', node6_txt, shape='rectangle')\n",
    "\n",
    "    node7_txt = f\"Studies included in review\\n(n = {str(data['n_included'])})\"\n",
    "    node7 = g.node('H', node7_txt, shape='rectangle')\n",
    "\n",
    "    # excluded reasons\n",
    "    node7_txt = f\"Studies excluded:\\n\" \\\n",
    "        + f\"{data['exclude_reason1']} (n = {str(data['n_exclude_reason1'])})\\n\"\\\n",
    "        + f\"{data['exclude_reason2']} (n = {str(data['n_exclude_reason2'])})\\n\"\\\n",
    "        + f\"{data['exclude_reason3']} (n = {str(data['n_exclude_reason3'])})\"\n",
    "    node7 = g.node('I', node7_txt, shape='rectangle')\n",
    "\n",
    "    g.edges(['AB', 'AC', 'CD', 'CE', 'EF', 'EG', 'GH', 'GI'])\n",
    "\n",
    "\n",
    "    # subnodes for real world decisions in same graph\n",
    "    snode1_txt = f\"Available models\\n n = {str(data['available_models_n'])}\" \n",
    "    snode1 = g.node('H0', snode1_txt)\n",
    "\n",
    "    snode2_txt = f\"Included studies \\n n = {str(data['n_included'])}\"\n",
    "    snode2 = g.node('H1', snode2_txt)\n",
    "\n",
    "    snode3_txt = f\"Percentage of models shared \\n {str(data['percent'])}\"\n",
    "    snode3 = g.node('H2', snode3_txt)\n",
    "\n",
    "    with g.subgraph(name='cluster_1') as c:\n",
    "        c.attr(color='blue')\n",
    "        c.node_attr['style'] = 'filled'\n",
    "        c.edges([('H0', 'H2'), ('H1', 'H2')])\n",
    "        c.attr(label=\"Interim results\")\n",
    "\n",
    "    g.save(filename)\n",
    "    return g"
   ]
  },
  {
   "cell_type": "markdown",
   "id": "749add08-8e4b-4bcb-b5fd-ef501da86f6e",
   "metadata": {
    "tags": []
   },
   "source": [
    "## 4. Read in data"
   ]
  },
  {
   "cell_type": "code",
   "execution_count": 13,
   "id": "62a7c6ca-4def-41cd-ad46-a69e35cc45b0",
   "metadata": {},
   "outputs": [],
   "source": [
    "clean = load_clean_dataset(FILE_NAME)"
   ]
  },
  {
   "cell_type": "markdown",
   "id": "e043bde7-895e-4f8d-a0d3-8afb589a27ac",
   "metadata": {},
   "source": [
    "## 3. Diagram Data Input\n",
    "The constant below represent values obtained from searching Scopus and Pubmed and cannot be generated from our dataset."
   ]
  },
  {
   "cell_type": "code",
   "execution_count": 14,
   "id": "ee65ff66-2bb8-433a-9897-9f9c8ed08648",
   "metadata": {},
   "outputs": [],
   "source": [
    "# duplicates identified and removed via zotero\n",
    "SCOPUS_DUPLICATES = 2 + 30 # when pooled with pubmed dataset\n",
    "PUBMED_DUPLICATES = 208  # when records pooled with scopus dataset\n",
    "DUPLICATES = SCOPUS_DUPLICATES + PUBMED_DUPLICATES\n",
    "\n",
    "N_SCOPUS = returned_from_scopus_after_dedup() + SCOPUS_DUPLICATES #534\n",
    "N_PUBMED = returned_from_pubmed_before_dedup()\n",
    "\n",
    "N_TITLE_ABSTRACTS = N_SCOPUS + N_PUBMED - DUPLICATES\n",
    "N_ABSTRACTS_EXCLUDED = 131 + (199 - 83)\n",
    "\n",
    "EXCLUDED_REASON_1 = \"Not English\"\n",
    "EXCLUDED_REASON_2 = \"Not DES\"\n",
    "EXCLUDED_REASON_3 = \"Not Health\""
   ]
  },
  {
   "cell_type": "code",
   "execution_count": 15,
   "id": "3aebc1a9-2c8c-42df-aab6-53a6e0757483",
   "metadata": {},
   "outputs": [],
   "source": [
    "#  script for prisma\n",
    "data = {}\n",
    "data['scopus_n'] = N_SCOPUS\n",
    "data['pubmed_n'] = N_PUBMED\n",
    "data['n_duplicates'] = DUPLICATES\n",
    "data['n_title_abstract'] = N_TITLE_ABSTRACTS\n",
    "data['n_abstracts_excluded'] = N_ABSTRACTS_EXCLUDED\n",
    "data['n_to_retrieve'] = studies_to_retrieve(clean)\n",
    "data['n_not_retrieved'] = papers_not_retrieved(clean)\n",
    "data['n_assessed'] = studies_to_retrieve(clean) - papers_not_retrieved(clean)\n",
    "data['n_included'] = number_studies_included(clean)\n",
    "data['exclude_reason1'] = EXCLUDED_REASON_1\n",
    "data['exclude_reason2'] = EXCLUDED_REASON_2\n",
    "data['exclude_reason3'] = EXCLUDED_REASON_3\n",
    "data['n_exclude_reason1'] = excluded_count(clean, EXCLUDED_REASON_1)\n",
    "data['n_exclude_reason2'] = excluded_count(clean, EXCLUDED_REASON_2)\n",
    "data['n_exclude_reason2'] = excluded_count(clean, EXCLUDED_REASON_3)\n",
    "data['available_models_n'] = models_with_code(clean)\n",
    "data['percent'] = round((models_with_code(clean) / \\\n",
    "                         number_studies_included(clean)) \\\n",
    "                        * 100, 1)"
   ]
  },
  {
   "cell_type": "code",
   "execution_count": 16,
   "id": "fe4c4337-a590-4184-9345-a638016c1cda",
   "metadata": {},
   "outputs": [
    {
     "ename": "KeyError",
     "evalue": "'n_exclude_reason3'",
     "output_type": "error",
     "traceback": [
      "\u001b[0;31m---------------------------------------------------------------------------\u001b[0m",
      "\u001b[0;31mKeyError\u001b[0m                                  Traceback (most recent call last)",
      "Cell \u001b[0;32mIn[16], line 1\u001b[0m\n\u001b[0;32m----> 1\u001b[0m g \u001b[38;5;241m=\u001b[39m \u001b[43mgraph_prisma\u001b[49m\u001b[43m(\u001b[49m\u001b[43mdata\u001b[49m\u001b[43m)\u001b[49m\n\u001b[1;32m      2\u001b[0m g\n",
      "Cell \u001b[0;32mIn[12], line 56\u001b[0m, in \u001b[0;36mgraph_prisma\u001b[0;34m(data, filename)\u001b[0m\n\u001b[1;32m     50\u001b[0m node7 \u001b[38;5;241m=\u001b[39m g\u001b[38;5;241m.\u001b[39mnode(\u001b[38;5;124m'\u001b[39m\u001b[38;5;124mH\u001b[39m\u001b[38;5;124m'\u001b[39m, node7_txt, shape\u001b[38;5;241m=\u001b[39m\u001b[38;5;124m'\u001b[39m\u001b[38;5;124mrectangle\u001b[39m\u001b[38;5;124m'\u001b[39m)\n\u001b[1;32m     52\u001b[0m \u001b[38;5;66;03m# excluded reasons\u001b[39;00m\n\u001b[1;32m     53\u001b[0m node7_txt \u001b[38;5;241m=\u001b[39m \u001b[38;5;124mf\u001b[39m\u001b[38;5;124m\"\u001b[39m\u001b[38;5;124mStudies excluded:\u001b[39m\u001b[38;5;130;01m\\n\u001b[39;00m\u001b[38;5;124m\"\u001b[39m \\\n\u001b[1;32m     54\u001b[0m     \u001b[38;5;241m+\u001b[39m \u001b[38;5;124mf\u001b[39m\u001b[38;5;124m\"\u001b[39m\u001b[38;5;132;01m{\u001b[39;00mdata[\u001b[38;5;124m'\u001b[39m\u001b[38;5;124mexclude_reason1\u001b[39m\u001b[38;5;124m'\u001b[39m]\u001b[38;5;132;01m}\u001b[39;00m\u001b[38;5;124m (n = \u001b[39m\u001b[38;5;132;01m{\u001b[39;00m\u001b[38;5;28mstr\u001b[39m(data[\u001b[38;5;124m'\u001b[39m\u001b[38;5;124mn_exclude_reason1\u001b[39m\u001b[38;5;124m'\u001b[39m])\u001b[38;5;132;01m}\u001b[39;00m\u001b[38;5;124m)\u001b[39m\u001b[38;5;130;01m\\n\u001b[39;00m\u001b[38;5;124m\"\u001b[39m\\\n\u001b[1;32m     55\u001b[0m     \u001b[38;5;241m+\u001b[39m \u001b[38;5;124mf\u001b[39m\u001b[38;5;124m\"\u001b[39m\u001b[38;5;132;01m{\u001b[39;00mdata[\u001b[38;5;124m'\u001b[39m\u001b[38;5;124mexclude_reason2\u001b[39m\u001b[38;5;124m'\u001b[39m]\u001b[38;5;132;01m}\u001b[39;00m\u001b[38;5;124m (n = \u001b[39m\u001b[38;5;132;01m{\u001b[39;00m\u001b[38;5;28mstr\u001b[39m(data[\u001b[38;5;124m'\u001b[39m\u001b[38;5;124mn_exclude_reason2\u001b[39m\u001b[38;5;124m'\u001b[39m])\u001b[38;5;132;01m}\u001b[39;00m\u001b[38;5;124m)\u001b[39m\u001b[38;5;130;01m\\n\u001b[39;00m\u001b[38;5;124m\"\u001b[39m\\\n\u001b[0;32m---> 56\u001b[0m     \u001b[38;5;241m+\u001b[39m \u001b[38;5;124mf\u001b[39m\u001b[38;5;124m\"\u001b[39m\u001b[38;5;132;01m{\u001b[39;00mdata[\u001b[38;5;124m'\u001b[39m\u001b[38;5;124mexclude_reason3\u001b[39m\u001b[38;5;124m'\u001b[39m]\u001b[38;5;132;01m}\u001b[39;00m\u001b[38;5;124m (n = \u001b[39m\u001b[38;5;132;01m{\u001b[39;00m\u001b[38;5;28mstr\u001b[39m(\u001b[43mdata\u001b[49m\u001b[43m[\u001b[49m\u001b[38;5;124;43m'\u001b[39;49m\u001b[38;5;124;43mn_exclude_reason3\u001b[39;49m\u001b[38;5;124;43m'\u001b[39;49m\u001b[43m]\u001b[49m)\u001b[38;5;132;01m}\u001b[39;00m\u001b[38;5;124m)\u001b[39m\u001b[38;5;124m\"\u001b[39m\n\u001b[1;32m     57\u001b[0m node7 \u001b[38;5;241m=\u001b[39m g\u001b[38;5;241m.\u001b[39mnode(\u001b[38;5;124m'\u001b[39m\u001b[38;5;124mI\u001b[39m\u001b[38;5;124m'\u001b[39m, node7_txt, shape\u001b[38;5;241m=\u001b[39m\u001b[38;5;124m'\u001b[39m\u001b[38;5;124mrectangle\u001b[39m\u001b[38;5;124m'\u001b[39m)\n\u001b[1;32m     59\u001b[0m g\u001b[38;5;241m.\u001b[39medges([\u001b[38;5;124m'\u001b[39m\u001b[38;5;124mAB\u001b[39m\u001b[38;5;124m'\u001b[39m, \u001b[38;5;124m'\u001b[39m\u001b[38;5;124mAC\u001b[39m\u001b[38;5;124m'\u001b[39m, \u001b[38;5;124m'\u001b[39m\u001b[38;5;124mCD\u001b[39m\u001b[38;5;124m'\u001b[39m, \u001b[38;5;124m'\u001b[39m\u001b[38;5;124mCE\u001b[39m\u001b[38;5;124m'\u001b[39m, \u001b[38;5;124m'\u001b[39m\u001b[38;5;124mEF\u001b[39m\u001b[38;5;124m'\u001b[39m, \u001b[38;5;124m'\u001b[39m\u001b[38;5;124mEG\u001b[39m\u001b[38;5;124m'\u001b[39m, \u001b[38;5;124m'\u001b[39m\u001b[38;5;124mGH\u001b[39m\u001b[38;5;124m'\u001b[39m, \u001b[38;5;124m'\u001b[39m\u001b[38;5;124mGI\u001b[39m\u001b[38;5;124m'\u001b[39m])\n",
      "\u001b[0;31mKeyError\u001b[0m: 'n_exclude_reason3'"
     ]
    }
   ],
   "source": [
    "g = graph_prisma(data)\n",
    "g"
   ]
  },
  {
   "cell_type": "code",
   "execution_count": null,
   "id": "c3833d07-d7f7-4b6b-8fdf-15e3d58f2382",
   "metadata": {},
   "outputs": [],
   "source": [
    "# save to file\n",
    "(graph,) = pydot.graph_from_dot_file('prisma.dot')\n",
    "graph.set_dpi(300)\n",
    "graph.write_png('prisma.png')"
   ]
  }
 ],
 "metadata": {
  "kernelspec": {
   "display_name": "Python 3 (ipykernel)",
   "language": "python",
   "name": "python3"
  },
  "language_info": {
   "codemirror_mode": {
    "name": "ipython",
    "version": 3
   },
   "file_extension": ".py",
   "mimetype": "text/x-python",
   "name": "python",
   "nbconvert_exporter": "python",
   "pygments_lexer": "ipython3",
   "version": "3.9.15"
  }
 },
 "nbformat": 4,
 "nbformat_minor": 5
}
