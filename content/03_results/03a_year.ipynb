{
 "cells": [
  {
   "cell_type": "markdown",
   "id": "c6068afb",
   "metadata": {},
   "source": [
    "# Analysis by year\n",
    "\n",
    "### Primary research questions:\n",
    "\n",
    "These results presented in this notebook the following questions\n",
    "\n",
    "4. How have metrics changed in over the three years of the study?"
   ]
  },
  {
   "cell_type": "markdown",
   "id": "3a034af2",
   "metadata": {},
   "source": [
    "## 1. Imports "
   ]
  },
  {
   "cell_type": "code",
   "execution_count": 1,
   "id": "45a52a14",
   "metadata": {},
   "outputs": [],
   "source": [
    "import pandas as pd\n",
    "import numpy as np\n",
    "import matplotlib.pyplot as plt\n",
    "import seaborn as sns\n",
    "sns.set()"
   ]
  },
  {
   "cell_type": "code",
   "execution_count": 2,
   "id": "b2c8c53b-036c-476d-8fa9-d7d4573b0e27",
   "metadata": {},
   "outputs": [],
   "source": [
    "## Imports from preprocessing module\n",
    "from preprocessing import load_clean_dataset"
   ]
  },
  {
   "cell_type": "markdown",
   "id": "67a596c0",
   "metadata": {},
   "source": [
    "## 2. Constants"
   ]
  },
  {
   "cell_type": "code",
   "execution_count": 3,
   "id": "195aa1fa",
   "metadata": {},
   "outputs": [],
   "source": [
    "FILE_NAME = 'https://raw.githubusercontent.com/TomMonks/' \\\n",
    "    + 'des_sharing_lit_review/main/data/share_sim_data_extract.zip'\n",
    "\n",
    "RG_LABEL = 'reporting_guidelines_mention'\n",
    "NONE = 'None'\n",
    "WIDTH = 0.5"
   ]
  },
  {
   "cell_type": "markdown",
   "id": "ea389a17-9d5a-49be-9a67-a40075aa1647",
   "metadata": {
    "tags": []
   },
   "source": [
    "## 3. Functions"
   ]
  },
  {
   "cell_type": "code",
   "execution_count": 4,
   "id": "25a8d48f-ea36-4c01-8682-4023a1ea4f77",
   "metadata": {},
   "outputs": [],
   "source": [
    "def high_level_metrics(df, name='None'):\n",
    "    '''A simple high level summary of the review.\n",
    "    \n",
    "    Returns a dict containing simple high level counts\n",
    "    and percentages in the data#\n",
    "    \n",
    "    Params:\n",
    "    -------\n",
    "    df: pd.DataFrame \n",
    "        A cleaned dataset.  Could be overall or subgroups/categories\n",
    "        \n",
    "    Returns:\n",
    "    --------\n",
    "        dict \n",
    "    '''\n",
    "    results = {}\n",
    "    included = df[df['study_included'] == 1]\n",
    "    available = included[included['model_code_available'] == 1]\n",
    "    results['n_included'] = len(included[included['study_included'] == 1])\n",
    "    results['n_foss'] = len(included[included['foss_sim'] == '1'])\n",
    "    results['n_covid'] = len(included[included['covid'] == 1])\n",
    "    results['n_avail'] = len(included[included['model_code_available'] == 1])\n",
    "    results['n_foss_avail'] = len(available[available['foss_sim'] == '1'])\n",
    "    results['n_covid_avail'] = len(available[available['covid'] == 1])\n",
    "    results['per_foss'] = results['n_foss'] / results['n_included']\n",
    "    results['per_covid'] = results['n_covid'] / results['n_included']\n",
    "    results['per_avail'] = results['n_avail'] / results['n_included']\n",
    "    results['per_foss_avail'] = results['n_foss_avail'] / results['n_foss']\n",
    "    results['per_covid_avail'] = results['n_covid_avail'] / results['n_covid']\n",
    "    results['reporting_guide'] = \\\n",
    "        len(included[included['reporting_guidelines_mention'] != 'None'])\n",
    "    results['per_reporting_guide'] = \\\n",
    "        results['reporting_guide'] / results['n_included']\n",
    "    return pd.Series(results, name=name)"
   ]
  },
  {
   "cell_type": "code",
   "execution_count": 5,
   "id": "5d3abf4e",
   "metadata": {},
   "outputs": [],
   "source": [
    "def analysis_by_year(df_clean, decimals=4):\n",
    "    '''\n",
    "    Conducts a high level analysis by year of publication\n",
    "    2019-2022\n",
    "    \n",
    "    Params:\n",
    "    -------\n",
    "    df_clean: pd.DataFrame\n",
    "        Assumes a cleaned version of the dataset.\n",
    "    \n",
    "    Returns: \n",
    "    -------\n",
    "    pd.DataFrame\n",
    "        Containing the result summary\n",
    "        \n",
    "    '''\n",
    "    overall_results = high_level_metrics(df_clean, 'overall')\n",
    "    year_results = []\n",
    "    years = df_clean['pub_yr'].unique().tolist()\n",
    "    for year in years:\n",
    "        subset = df_clean[df_clean['pub_yr'] == year]\n",
    "        year_results.append(high_level_metrics(subset, name=str(year)))\n",
    "    year_results = [overall_results] + year_results\n",
    "    year_results = pd.DataFrame(year_results).T.round(decimals)\n",
    "    return year_results[sorted(year_results.columns.tolist())]"
   ]
  },
  {
   "cell_type": "markdown",
   "id": "33672ad4-a028-4435-adb3-749ddc219e9c",
   "metadata": {},
   "source": [
    "## 4. Read in data"
   ]
  },
  {
   "cell_type": "code",
   "execution_count": 6,
   "id": "857e5149-7c7d-4a86-b499-0acf9bd15908",
   "metadata": {},
   "outputs": [],
   "source": [
    "clean = load_clean_dataset(FILE_NAME)"
   ]
  },
  {
   "cell_type": "markdown",
   "id": "727c8ba3-160b-49d1-ac11-ccf3248ca3d6",
   "metadata": {},
   "source": [
    "## 5. Results\n",
    "\n",
    "### 5.1 Overall summary table"
   ]
  },
  {
   "cell_type": "code",
   "execution_count": 7,
   "id": "6421c9ab-c7ce-4f7e-9fe1-67feb7370859",
   "metadata": {},
   "outputs": [
    {
     "data": {
      "text/html": [
       "<div>\n",
       "<style scoped>\n",
       "    .dataframe tbody tr th:only-of-type {\n",
       "        vertical-align: middle;\n",
       "    }\n",
       "\n",
       "    .dataframe tbody tr th {\n",
       "        vertical-align: top;\n",
       "    }\n",
       "\n",
       "    .dataframe thead th {\n",
       "        text-align: right;\n",
       "    }\n",
       "</style>\n",
       "<table border=\"1\" class=\"dataframe\">\n",
       "  <thead>\n",
       "    <tr style=\"text-align: right;\">\n",
       "      <th></th>\n",
       "      <th>2019</th>\n",
       "      <th>2020</th>\n",
       "      <th>2021</th>\n",
       "      <th>2022</th>\n",
       "      <th>overall</th>\n",
       "    </tr>\n",
       "  </thead>\n",
       "  <tbody>\n",
       "    <tr>\n",
       "      <th>n_included</th>\n",
       "      <td>104.0000</td>\n",
       "      <td>113.0000</td>\n",
       "      <td>124.0000</td>\n",
       "      <td>82.0000</td>\n",
       "      <td>423.0000</td>\n",
       "    </tr>\n",
       "    <tr>\n",
       "      <th>n_foss</th>\n",
       "      <td>15.0000</td>\n",
       "      <td>17.0000</td>\n",
       "      <td>29.0000</td>\n",
       "      <td>19.0000</td>\n",
       "      <td>80.0000</td>\n",
       "    </tr>\n",
       "    <tr>\n",
       "      <th>n_covid</th>\n",
       "      <td>1.0000</td>\n",
       "      <td>9.0000</td>\n",
       "      <td>30.0000</td>\n",
       "      <td>12.0000</td>\n",
       "      <td>52.0000</td>\n",
       "    </tr>\n",
       "    <tr>\n",
       "      <th>n_avail</th>\n",
       "      <td>5.0000</td>\n",
       "      <td>11.0000</td>\n",
       "      <td>14.0000</td>\n",
       "      <td>9.0000</td>\n",
       "      <td>39.0000</td>\n",
       "    </tr>\n",
       "    <tr>\n",
       "      <th>n_foss_avail</th>\n",
       "      <td>5.0000</td>\n",
       "      <td>5.0000</td>\n",
       "      <td>9.0000</td>\n",
       "      <td>5.0000</td>\n",
       "      <td>24.0000</td>\n",
       "    </tr>\n",
       "    <tr>\n",
       "      <th>n_covid_avail</th>\n",
       "      <td>0.0000</td>\n",
       "      <td>4.0000</td>\n",
       "      <td>10.0000</td>\n",
       "      <td>0.0000</td>\n",
       "      <td>14.0000</td>\n",
       "    </tr>\n",
       "    <tr>\n",
       "      <th>per_foss</th>\n",
       "      <td>0.1442</td>\n",
       "      <td>0.1504</td>\n",
       "      <td>0.2339</td>\n",
       "      <td>0.2317</td>\n",
       "      <td>0.1891</td>\n",
       "    </tr>\n",
       "    <tr>\n",
       "      <th>per_covid</th>\n",
       "      <td>0.0096</td>\n",
       "      <td>0.0796</td>\n",
       "      <td>0.2419</td>\n",
       "      <td>0.1463</td>\n",
       "      <td>0.1229</td>\n",
       "    </tr>\n",
       "    <tr>\n",
       "      <th>per_avail</th>\n",
       "      <td>0.0481</td>\n",
       "      <td>0.0973</td>\n",
       "      <td>0.1129</td>\n",
       "      <td>0.1098</td>\n",
       "      <td>0.0922</td>\n",
       "    </tr>\n",
       "    <tr>\n",
       "      <th>per_foss_avail</th>\n",
       "      <td>0.3333</td>\n",
       "      <td>0.2941</td>\n",
       "      <td>0.3103</td>\n",
       "      <td>0.2632</td>\n",
       "      <td>0.3000</td>\n",
       "    </tr>\n",
       "    <tr>\n",
       "      <th>per_covid_avail</th>\n",
       "      <td>0.0000</td>\n",
       "      <td>0.4444</td>\n",
       "      <td>0.3333</td>\n",
       "      <td>0.0000</td>\n",
       "      <td>0.2692</td>\n",
       "    </tr>\n",
       "    <tr>\n",
       "      <th>reporting_guide</th>\n",
       "      <td>9.0000</td>\n",
       "      <td>21.0000</td>\n",
       "      <td>8.0000</td>\n",
       "      <td>23.0000</td>\n",
       "      <td>61.0000</td>\n",
       "    </tr>\n",
       "    <tr>\n",
       "      <th>per_reporting_guide</th>\n",
       "      <td>0.0865</td>\n",
       "      <td>0.1858</td>\n",
       "      <td>0.0645</td>\n",
       "      <td>0.2805</td>\n",
       "      <td>0.1442</td>\n",
       "    </tr>\n",
       "  </tbody>\n",
       "</table>\n",
       "</div>"
      ],
      "text/plain": [
       "                         2019      2020      2021     2022   overall\n",
       "n_included           104.0000  113.0000  124.0000  82.0000  423.0000\n",
       "n_foss                15.0000   17.0000   29.0000  19.0000   80.0000\n",
       "n_covid                1.0000    9.0000   30.0000  12.0000   52.0000\n",
       "n_avail                5.0000   11.0000   14.0000   9.0000   39.0000\n",
       "n_foss_avail           5.0000    5.0000    9.0000   5.0000   24.0000\n",
       "n_covid_avail          0.0000    4.0000   10.0000   0.0000   14.0000\n",
       "per_foss               0.1442    0.1504    0.2339   0.2317    0.1891\n",
       "per_covid              0.0096    0.0796    0.2419   0.1463    0.1229\n",
       "per_avail              0.0481    0.0973    0.1129   0.1098    0.0922\n",
       "per_foss_avail         0.3333    0.2941    0.3103   0.2632    0.3000\n",
       "per_covid_avail        0.0000    0.4444    0.3333   0.0000    0.2692\n",
       "reporting_guide        9.0000   21.0000    8.0000  23.0000   61.0000\n",
       "per_reporting_guide    0.0865    0.1858    0.0645   0.2805    0.1442"
      ]
     },
     "execution_count": 7,
     "metadata": {},
     "output_type": "execute_result"
    }
   ],
   "source": [
    "# overall\n",
    "year_summary = analysis_by_year(clean)\n",
    "year_summary"
   ]
  },
  {
   "cell_type": "markdown",
   "id": "3c1710b4-d0fb-44b5-9773-01492d0ecd38",
   "metadata": {},
   "source": [
    "### 5.3. Annual n and percentage figure"
   ]
  },
  {
   "cell_type": "code",
   "execution_count": 8,
   "id": "a0122daa-8c4c-4af8-a55e-54dd6606184a",
   "metadata": {},
   "outputs": [
    {
     "data": {
      "text/plain": [
       "2019        5.0\n",
       "2020        7.0\n",
       "2021        4.0\n",
       "2022        9.0\n",
       "overall    25.0\n",
       "dtype: float64"
      ]
     },
     "execution_count": 8,
     "metadata": {},
     "output_type": "execute_result"
    }
   ],
   "source": [
    "# annual figures excluding covid models\n",
    "non_covid = year_summary.T['n_avail'] - year_summary.T['n_covid_avail']\n",
    "non_covid"
   ]
  },
  {
   "cell_type": "code",
   "execution_count": null,
   "id": "e06d8f11-4f2e-4d32-9c1a-59efc4ee89c6",
   "metadata": {},
   "outputs": [],
   "source": [
    "# no. covid models not available = no. covid models - no. avaiable covid models\n",
    "n_not_avail_covid = year_summary.T['n_covid'] - year_summary.T['n_covid_avail']\n",
    "n_not_avail_covid"
   ]
  },
  {
   "cell_type": "code",
   "execution_count": 17,
   "id": "53a3ad90-c8a4-425e-9b0b-91ab94f3f13a",
   "metadata": {},
   "outputs": [
    {
     "data": {
      "text/plain": [
       "2019        98.0\n",
       "2020        93.0\n",
       "2021        80.0\n",
       "2022        61.0\n",
       "overall    332.0\n",
       "dtype: float64"
      ]
     },
     "execution_count": 17,
     "metadata": {},
     "output_type": "execute_result"
    }
   ],
   "source": [
    "# no. general health models not available = no. included - no. available - n_covid\n",
    "n_not_avail_gen = year_summary.T['n_included'] - year_summary.T['n_avail'] - year_summary.T['n_covid']\n",
    "n_not_avail_gen"
   ]
  },
  {
   "cell_type": "code",
   "execution_count": 9,
   "id": "96b97d14-8a27-47ff-88b1-426add24bcd1",
   "metadata": {},
   "outputs": [],
   "source": [
    "def plot_data_by_year(n_general_models, n_covid_models, \n",
    "                      per_models, xlabels, width=WIDTH, grid=True,\n",
    "                      figsize=(6, 5)):\n",
    "    \n",
    "    fig, (ax1, ax2) = plt.subplots(nrows=2, sharex=True, figsize=figsize)\n",
    "\n",
    "    # include x, y grid \n",
    "    if grid:\n",
    "        ax1.grid(ls='--', axis='y')\n",
    "        ax2.grid(ls='--', axis='y')\n",
    "    \n",
    "    # plot one: stacked bar chart.  general health + covid models\n",
    "    y1 = ax1.bar(xlabels, n_general_models, \n",
    "                label='General Health', width=width)\n",
    "\n",
    "    y2 = ax1.bar(xlabels, n_covid_models,\n",
    "               label='Covid-19', bottom=n_general_models, width=width)\n",
    "\n",
    "    _ = ax1.set_ylabel('Shared Models')\n",
    "    _ = ax1.legend(ncols=1, loc='upper right', fontsize=8)\n",
    "\n",
    "    # include x, y grid \n",
    "    if grid:\n",
    "        ax1.grid(ls='--', axis='y')\n",
    "        ax2.grid(ls='--', axis='y')\n",
    "        \n",
    "    ax1.bar_label(y2)\n",
    "\n",
    "    # set size of x, y ticks\n",
    "    ax1.tick_params(axis='both', labelsize=9)\n",
    "    ax2.tick_params(axis='both', labelsize=9)\n",
    "\n",
    "    # plot 2: percentage available by year\n",
    "    _ = ax2.bar(xlabels, per_models, label='All models', \n",
    "                width=width, color='green')\n",
    "\n",
    "    _ = ax2.set_ylabel('Percent of literature')\n",
    "    \n",
    "    return fig, (ax1, ax2)"
   ]
  },
  {
   "cell_type": "code",
   "execution_count": 10,
   "id": "154a71db-1bd7-4620-943d-7c25eb5e7692",
   "metadata": {},
   "outputs": [
    {
     "data": {
      "image/png": "[encoded data removed]",
      "text/plain": [
       "<Figure size 600x500 with 2 Axes>"
      ]
     },
     "metadata": {},
     "output_type": "display_data"
    }
   ],
   "source": [
    "fig, axs = plot_data_by_year(n_general_models=non_covid[:-1],\n",
    "                             n_covid_models=year_summary.T['n_covid_avail'][:-1],\n",
    "                             per_models=year_summary.T['per_avail'][:-1],\n",
    "                             xlabels=year_summary.columns[:-1],\n",
    "                             grid=False)"
   ]
  },
  {
   "cell_type": "code",
   "execution_count": 11,
   "id": "432662f4-a566-4034-a759-fb182100445b",
   "metadata": {},
   "outputs": [
    {
     "data": {
      "text/html": [
       "<div>\n",
       "<style scoped>\n",
       "    .dataframe tbody tr th:only-of-type {\n",
       "        vertical-align: middle;\n",
       "    }\n",
       "\n",
       "    .dataframe tbody tr th {\n",
       "        vertical-align: top;\n",
       "    }\n",
       "\n",
       "    .dataframe thead th {\n",
       "        text-align: right;\n",
       "    }\n",
       "</style>\n",
       "<table border=\"1\" class=\"dataframe\">\n",
       "  <thead>\n",
       "    <tr style=\"text-align: right;\">\n",
       "      <th></th>\n",
       "      <th>key</th>\n",
       "      <th>item_type</th>\n",
       "      <th>pub_yr</th>\n",
       "      <th>author</th>\n",
       "      <th>title</th>\n",
       "      <th>pub_title</th>\n",
       "      <th>doi</th>\n",
       "      <th>url</th>\n",
       "      <th>study_included</th>\n",
       "      <th>model_code_available</th>\n",
       "      <th>...</th>\n",
       "      <th>covid</th>\n",
       "      <th>sim_software</th>\n",
       "      <th>foss_sim</th>\n",
       "      <th>model_archive</th>\n",
       "      <th>model_repo</th>\n",
       "      <th>model_journal_supp</th>\n",
       "      <th>model_journal_supp</th>\n",
       "      <th>model_personal_org</th>\n",
       "      <th>model_platform</th>\n",
       "      <th>available_on_req</th>\n",
       "    </tr>\n",
       "  </thead>\n",
       "  <tbody>\n",
       "    <tr>\n",
       "      <th>169</th>\n",
       "      <td>4AY7MQIP</td>\n",
       "      <td>conferencePaper</td>\n",
       "      <td>2019</td>\n",
       "      <td>Bosch, P.</td>\n",
       "      <td>Mixed-Mode Pandemic Modeling</td>\n",
       "      <td>Proceedings - Winter Simulation Conference</td>\n",
       "      <td>10.1109/WSC40007.2019.9004801</td>\n",
       "      <td>https://www.scopus.com/inward/record.uri?eid=2...</td>\n",
       "      <td>1</td>\n",
       "      <td>0.0</td>\n",
       "      <td>...</td>\n",
       "      <td>1.0</td>\n",
       "      <td>Sage</td>\n",
       "      <td>1</td>\n",
       "      <td>NaN</td>\n",
       "      <td>GitHub</td>\n",
       "      <td>NaN</td>\n",
       "      <td>NaN</td>\n",
       "      <td>NaN</td>\n",
       "      <td>NaN</td>\n",
       "      <td>NaN</td>\n",
       "    </tr>\n",
       "  </tbody>\n",
       "</table>\n",
       "<p>1 rows × 21 columns</p>\n",
       "</div>"
      ],
      "text/plain": [
       "          key        item_type  pub_yr     author  \\\n",
       "169  4AY7MQIP  conferencePaper    2019  Bosch, P.   \n",
       "\n",
       "                            title                                   pub_title  \\\n",
       "169  Mixed-Mode Pandemic Modeling  Proceedings - Winter Simulation Conference   \n",
       "\n",
       "                               doi  \\\n",
       "169  10.1109/WSC40007.2019.9004801   \n",
       "\n",
       "                                                   url study_included  \\\n",
       "169  https://www.scopus.com/inward/record.uri?eid=2...              1   \n",
       "\n",
       "    model_code_available  ... covid sim_software foss_sim model_archive  \\\n",
       "169                  0.0  ...   1.0         Sage        1           NaN   \n",
       "\n",
       "    model_repo model_journal_supp model_journal_supp model_personal_org  \\\n",
       "169     GitHub                NaN                NaN                NaN   \n",
       "\n",
       "    model_platform available_on_req  \n",
       "169            NaN              NaN  \n",
       "\n",
       "[1 rows x 21 columns]"
      ]
     },
     "execution_count": 11,
     "metadata": {},
     "output_type": "execute_result"
    }
   ],
   "source": [
    "# Coding error in 2019 - fixed in new version of dataset.\n",
    "clean[(clean['pub_yr']==2019) & (clean['covid'] == 1)]\n"
   ]
  },
  {
   "cell_type": "code",
   "execution_count": 77,
   "id": "197cc3b7-aa7e-421e-bff5-83b4896063f9",
   "metadata": {},
   "outputs": [],
   "source": [
    "def plot_all_data_by_year(n_avail_general_models, n_avail_covid_models, \n",
    "                          per_models, n_not_general_models, n_not_covid_models,\n",
    "                          xlabels, width=WIDTH, grid=True,\n",
    "                          figsize=(6, 6)):\n",
    "    \n",
    "    fig, (ax1, ax2) = plt.subplots(nrows=2, sharex=True, figsize=figsize)\n",
    "\n",
    "    # include x, y grid \n",
    "    if grid:\n",
    "        ax1.grid(ls='--', axis='y')\n",
    "        ax2.grid(ls='--', axis='y')\n",
    "    \n",
    "    # plot one: stacked bar chart.  general health + covid models\n",
    "    y1 = ax1.bar(xlabels, n_not_general_models, \n",
    "                label='Closed General', width=width)\n",
    "\n",
    "    y2 = ax1.bar(xlabels, n_not_covid_models,\n",
    "               label='Closed Covid-19', bottom=n_not_general_models, width=width)\n",
    "    \n",
    "    y3 = ax1.bar(xlabels, n_avail_general_models,\n",
    "                 label='Open General', bottom=n_not_general_models+n_not_covid_models, width=width)\n",
    "\n",
    "    y4 = ax1.bar(xlabels, n_avail_covid_models,\n",
    "                 label='Open Covid-19', bottom=n_not_general_models+n_not_covid_models+n_avail_general_models, width=width)\n",
    "\n",
    "    _ = ax1.set_ylabel('Models')\n",
    "    #_ = ax1.legend(ncols=4, loc='best', fontsize=8)\n",
    "    _ = fig.legend(loc='upper left', ncol=2, bbox_to_anchor=(0.11, 1.0), fontsize=9)\n",
    "\n",
    "\n",
    "    # include x, y grid \n",
    "    if grid:\n",
    "        ax1.grid(ls='--', axis='y')\n",
    "        ax2.grid(ls='--', axis='y')\n",
    "        \n",
    "    ax1.bar_label(y4)\n",
    "\n",
    "    # set size of x, y ticks\n",
    "    ax1.tick_params(axis='both', labelsize=9)\n",
    "    ax2.tick_params(axis='both', labelsize=9)\n",
    "\n",
    "    # plot 2: percentage available by year\n",
    "    _ = ax2.bar(xlabels, per_models, label='All models', \n",
    "                width=width, color='green')\n",
    "\n",
    "    _ = ax2.set_ylabel('Percent of literature')\n",
    "    \n",
    "    return fig, (ax1, ax2)"
   ]
  },
  {
   "cell_type": "code",
   "execution_count": 78,
   "id": "5986232a-ec0f-4669-a68e-49e7a1c93478",
   "metadata": {},
   "outputs": [
    {
     "data": {
      "image/png": "[encoded data removed]",
      "text/plain": [
       "<Figure size 600x600 with 2 Axes>"
      ]
     },
     "metadata": {},
     "output_type": "display_data"
    }
   ],
   "source": [
    "fig, axs = plot_all_data_by_year(n_avail_general_models=non_covid[:-1],\n",
    "                                 n_avail_covid_models=year_summary.T['n_covid_avail'][:-1],\n",
    "                             \n",
    "                                 per_models=year_summary.T['per_avail'][:-1],\n",
    "                                 n_not_general_models=n_not_avail_gen[:-1], \n",
    "                                 n_not_covid_models=n_not_avail_covid[:-1],\n",
    "                                 xlabels=year_summary.columns[:-1],\n",
    "                                 grid=False)"
   ]
  },
  {
   "cell_type": "code",
   "execution_count": 88,
   "id": "0d5b80d9-2bd6-4300-a37d-bcf9e2578f35",
   "metadata": {},
   "outputs": [],
   "source": [
    "def plot_all_data_by_year2(n_avail_general_models, n_avail_covid_models, \n",
    "                          per_models, n_not_general_models, n_not_covid_models,\n",
    "                          xlabels, width=WIDTH, grid=True,\n",
    "                          figsize=(6, 6)):\n",
    "    \n",
    "    \n",
    "    gridspec_kw = {'height_ratios':[4,1]}\n",
    "    \n",
    "    fig, (ax1, ax2) = plt.subplots(nrows=2, sharex=True, figsize=figsize,\n",
    "                                  gridspec_kw=gridspec_kw)\n",
    "\n",
    "    # include x, y grid \n",
    "    if grid:\n",
    "        ax1.grid(ls='--', axis='y')\n",
    "        ax2.grid(ls='--', axis='y')\n",
    "    \n",
    "    # plot one: stacked bar chart.  general health + covid models\n",
    "    y1 = ax1.bar(xlabels, n_not_general_models, \n",
    "                label='Closed General', width=width)\n",
    "\n",
    "    y2 = ax1.bar(xlabels, n_avail_general_models,\n",
    "               label='Open General', bottom=n_not_general_models, width=width)\n",
    "    \n",
    "    y3 = ax1.bar(xlabels, n_not_covid_models,\n",
    "                 label='Closed Covid-19', bottom=n_not_general_models+n_avail_general_models, width=width)\n",
    "\n",
    "    y4 = ax1.bar(xlabels, n_avail_covid_models,\n",
    "                 label='Open Covid-19', bottom=n_not_general_models+n_not_covid_models+n_avail_general_models, width=width)\n",
    "\n",
    "    _ = ax1.set_ylabel('Models')\n",
    "    #_ = ax1.legend(ncols=4, loc='best', fontsize=8)\n",
    "    _ = fig.legend(loc='upper left', ncol=2, bbox_to_anchor=(0.11, 1.0), fontsize=9)\n",
    "\n",
    "\n",
    "    # include x, y grid \n",
    "    if grid:\n",
    "        ax1.grid(ls='--', axis='y')\n",
    "        ax2.grid(ls='--', axis='y')\n",
    "        \n",
    "    ax1.bar_label(y4)\n",
    "\n",
    "    # set size of x, y ticks\n",
    "    ax1.tick_params(axis='both', labelsize=9)\n",
    "    ax2.tick_params(axis='both', labelsize=9)\n",
    "\n",
    "    # plot 2: percentage available by year\n",
    "    _ = ax2.bar(xlabels, per_models, label='All models', \n",
    "                width=width, color='green')\n",
    "\n",
    "    _ = ax2.set_ylabel('% Open')\n",
    "    \n",
    "    return fig, (ax1, ax2)"
   ]
  },
  {
   "cell_type": "code",
   "execution_count": 89,
   "id": "349d5698-0ce0-4faf-b943-cd97d073eb74",
   "metadata": {},
   "outputs": [
    {
     "data": {
      "image/png": "[encoded data removed]",
      "text/plain": [
       "<Figure size 600x600 with 2 Axes>"
      ]
     },
     "metadata": {},
     "output_type": "display_data"
    }
   ],
   "source": [
    "fig, axs = plot_all_data_by_year2(n_avail_general_models=non_covid[:-1],\n",
    "                                 n_avail_covid_models=year_summary.T['n_covid_avail'][:-1],\n",
    "                             \n",
    "                                 per_models=year_summary.T['per_avail'][:-1],\n",
    "                                 n_not_general_models=n_not_avail_gen[:-1], \n",
    "                                 n_not_covid_models=n_not_avail_covid[:-1],\n",
    "                                 xlabels=year_summary.columns[:-1],\n",
    "                                 grid=False)"
   ]
  },
  {
   "cell_type": "code",
   "execution_count": null,
   "id": "04b2f97d-03ba-4d11-92d5-dd0dedcbcd1c",
   "metadata": {},
   "outputs": [],
   "source": []
  }
 ],
 "metadata": {
  "kernelspec": {
   "display_name": "Python 3 (ipykernel)",
   "language": "python",
   "name": "python3"
  },
  "language_info": {
   "codemirror_mode": {
    "name": "ipython",
    "version": 3
   },
   "file_extension": ".py",
   "mimetype": "text/x-python",
   "name": "python",
   "nbconvert_exporter": "python",
   "pygments_lexer": "ipython3",
   "version": "3.9.15"
  }
 },
 "nbformat": 4,
 "nbformat_minor": 5
}
