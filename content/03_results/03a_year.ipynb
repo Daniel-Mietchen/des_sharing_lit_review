{
 "cells": [
  {
   "cell_type": "markdown",
   "id": "c6068afb",
   "metadata": {},
   "source": [
    "# Analysis by year\n",
    "\n",
    "### Primary research questions:\n",
    "\n",
    "These results presented in this notebook the following questions\n",
    "\n",
    "6. What proportion of studies make use of a reporting guideline?"
   ]
  },
  {
   "cell_type": "markdown",
   "id": "3a034af2",
   "metadata": {},
   "source": [
    "## 1. Imports "
   ]
  },
  {
   "cell_type": "code",
   "execution_count": 1,
   "id": "45a52a14",
   "metadata": {},
   "outputs": [],
   "source": [
    "import pandas as pd\n",
    "import numpy as np\n",
    "import matplotlib.pyplot as plt"
   ]
  },
  {
   "cell_type": "code",
   "execution_count": 2,
   "id": "b2c8c53b-036c-476d-8fa9-d7d4573b0e27",
   "metadata": {},
   "outputs": [],
   "source": [
    "## Imports from preprocessing module\n",
    "from preprocessing import load_clean_dataset"
   ]
  },
  {
   "cell_type": "markdown",
   "id": "67a596c0",
   "metadata": {},
   "source": [
    "## 2. Constants"
   ]
  },
  {
   "cell_type": "code",
   "execution_count": 3,
   "id": "195aa1fa",
   "metadata": {},
   "outputs": [],
   "source": [
    "FILE_NAME = 'https://raw.githubusercontent.com/TomMonks/' \\\n",
    "    + 'des_sharing_lit_review/main/data/share_sim_data_extract.zip'\n",
    "\n",
    "RG_LABEL = 'reporting_guidelines_mention'\n",
    "NONE = 'None'"
   ]
  },
  {
   "cell_type": "markdown",
   "id": "ea389a17-9d5a-49be-9a67-a40075aa1647",
   "metadata": {
    "tags": []
   },
   "source": [
    "## 3. Functions"
   ]
  },
  {
   "cell_type": "code",
   "execution_count": 4,
   "id": "25a8d48f-ea36-4c01-8682-4023a1ea4f77",
   "metadata": {},
   "outputs": [],
   "source": [
    "def high_level_metrics(df, name='None'):\n",
    "    '''A simple high level summary of the review.\n",
    "    \n",
    "    Returns a dict containing simple high level counts\n",
    "    and percentages in the data#\n",
    "    \n",
    "    Params:\n",
    "    -------\n",
    "    df: pd.DataFrame \n",
    "        A cleaned dataset.  Could be overall or subgroups/categories\n",
    "        \n",
    "    Returns:\n",
    "    --------\n",
    "        dict \n",
    "    '''\n",
    "    results = {}\n",
    "    included = df[df['study_included'] == 1]\n",
    "    available = included[included['model_code_available'] == 1]\n",
    "    results['n_included'] = len(included[included['study_included'] == 1])\n",
    "    results['n_foss'] = len(included[included['foss_sim'] == '1'])\n",
    "    results['n_covid'] = len(included[included['covid'] == 1])\n",
    "    results['n_avail'] = len(included[included['model_code_available'] == 1])\n",
    "    results['n_foss_avail'] = len(available[available['foss_sim'] == '1'])\n",
    "    results['n_covid_avail'] = len(available[available['covid'] == 1])\n",
    "    results['per_foss'] = results['n_foss'] / results['n_included']\n",
    "    results['per_covid'] = results['n_covid'] / results['n_included']\n",
    "    results['per_avail'] = results['n_avail'] / results['n_included']\n",
    "    results['per_foss_avail'] = results['n_foss_avail'] / results['n_foss']\n",
    "    results['per_covid_avail'] = results['n_covid_avail'] / results['n_covid']\n",
    "    results['reporting_guide'] = \\\n",
    "        len(included[included['reporting_guidelines_mention'] != 'None'])\n",
    "    results['per_reporting_guide'] = \\\n",
    "        results['reporting_guide'] / results['n_included']\n",
    "    return pd.Series(results, name=name)"
   ]
  },
  {
   "cell_type": "code",
   "execution_count": 5,
   "id": "5d3abf4e",
   "metadata": {},
   "outputs": [],
   "source": [
    "def analysis_by_year(df_clean, decimals=4):\n",
    "    '''\n",
    "    Conducts a high level analysis by year of publication\n",
    "    2019-2022\n",
    "    \n",
    "    Params:\n",
    "    -------\n",
    "    df_clean: pd.DataFrame\n",
    "        Assumes a cleaned version of the dataset.\n",
    "    \n",
    "    Returns: \n",
    "    -------\n",
    "    pd.DataFrame\n",
    "        Containing the result summary\n",
    "        \n",
    "    '''\n",
    "    overall_results = high_level_metrics(df_clean, 'overall')\n",
    "    year_results = []\n",
    "    years = df_clean['pub_yr'].unique().tolist()\n",
    "    for year in years:\n",
    "        subset = df_clean[df_clean['pub_yr'] == year]\n",
    "        year_results.append(high_level_metrics(subset, name=str(year)))\n",
    "    year_results = [overall_results] + year_results\n",
    "    year_results = pd.DataFrame(year_results).T.round(decimals)\n",
    "    return year_results[sorted(year_results.columns.tolist())]"
   ]
  },
  {
   "cell_type": "markdown",
   "id": "33672ad4-a028-4435-adb3-749ddc219e9c",
   "metadata": {},
   "source": [
    "## 4. Read in data"
   ]
  },
  {
   "cell_type": "code",
   "execution_count": 6,
   "id": "857e5149-7c7d-4a86-b499-0acf9bd15908",
   "metadata": {},
   "outputs": [],
   "source": [
    "clean = load_clean_dataset(FILE_NAME)"
   ]
  },
  {
   "cell_type": "markdown",
   "id": "727c8ba3-160b-49d1-ac11-ccf3248ca3d6",
   "metadata": {},
   "source": [
    "## 5. Results"
   ]
  },
  {
   "cell_type": "code",
   "execution_count": 7,
   "id": "6421c9ab-c7ce-4f7e-9fe1-67feb7370859",
   "metadata": {},
   "outputs": [
    {
     "data": {
      "text/html": [
       "<div>\n",
       "<style scoped>\n",
       "    .dataframe tbody tr th:only-of-type {\n",
       "        vertical-align: middle;\n",
       "    }\n",
       "\n",
       "    .dataframe tbody tr th {\n",
       "        vertical-align: top;\n",
       "    }\n",
       "\n",
       "    .dataframe thead th {\n",
       "        text-align: right;\n",
       "    }\n",
       "</style>\n",
       "<table border=\"1\" class=\"dataframe\">\n",
       "  <thead>\n",
       "    <tr style=\"text-align: right;\">\n",
       "      <th></th>\n",
       "      <th>2019</th>\n",
       "      <th>2020</th>\n",
       "      <th>2021</th>\n",
       "      <th>2022</th>\n",
       "      <th>overall</th>\n",
       "    </tr>\n",
       "  </thead>\n",
       "  <tbody>\n",
       "    <tr>\n",
       "      <th>n_included</th>\n",
       "      <td>104.0000</td>\n",
       "      <td>113.0000</td>\n",
       "      <td>124.0000</td>\n",
       "      <td>82.0000</td>\n",
       "      <td>423.0000</td>\n",
       "    </tr>\n",
       "    <tr>\n",
       "      <th>n_foss</th>\n",
       "      <td>15.0000</td>\n",
       "      <td>17.0000</td>\n",
       "      <td>29.0000</td>\n",
       "      <td>19.0000</td>\n",
       "      <td>80.0000</td>\n",
       "    </tr>\n",
       "    <tr>\n",
       "      <th>n_covid</th>\n",
       "      <td>1.0000</td>\n",
       "      <td>9.0000</td>\n",
       "      <td>30.0000</td>\n",
       "      <td>12.0000</td>\n",
       "      <td>52.0000</td>\n",
       "    </tr>\n",
       "    <tr>\n",
       "      <th>n_avail</th>\n",
       "      <td>5.0000</td>\n",
       "      <td>11.0000</td>\n",
       "      <td>14.0000</td>\n",
       "      <td>9.0000</td>\n",
       "      <td>39.0000</td>\n",
       "    </tr>\n",
       "    <tr>\n",
       "      <th>n_foss_avail</th>\n",
       "      <td>5.0000</td>\n",
       "      <td>5.0000</td>\n",
       "      <td>9.0000</td>\n",
       "      <td>5.0000</td>\n",
       "      <td>24.0000</td>\n",
       "    </tr>\n",
       "    <tr>\n",
       "      <th>n_covid_avail</th>\n",
       "      <td>0.0000</td>\n",
       "      <td>4.0000</td>\n",
       "      <td>10.0000</td>\n",
       "      <td>0.0000</td>\n",
       "      <td>14.0000</td>\n",
       "    </tr>\n",
       "    <tr>\n",
       "      <th>per_foss</th>\n",
       "      <td>0.1442</td>\n",
       "      <td>0.1504</td>\n",
       "      <td>0.2339</td>\n",
       "      <td>0.2317</td>\n",
       "      <td>0.1891</td>\n",
       "    </tr>\n",
       "    <tr>\n",
       "      <th>per_covid</th>\n",
       "      <td>0.0096</td>\n",
       "      <td>0.0796</td>\n",
       "      <td>0.2419</td>\n",
       "      <td>0.1463</td>\n",
       "      <td>0.1229</td>\n",
       "    </tr>\n",
       "    <tr>\n",
       "      <th>per_avail</th>\n",
       "      <td>0.0481</td>\n",
       "      <td>0.0973</td>\n",
       "      <td>0.1129</td>\n",
       "      <td>0.1098</td>\n",
       "      <td>0.0922</td>\n",
       "    </tr>\n",
       "    <tr>\n",
       "      <th>per_foss_avail</th>\n",
       "      <td>0.3333</td>\n",
       "      <td>0.2941</td>\n",
       "      <td>0.3103</td>\n",
       "      <td>0.2632</td>\n",
       "      <td>0.3000</td>\n",
       "    </tr>\n",
       "    <tr>\n",
       "      <th>per_covid_avail</th>\n",
       "      <td>0.0000</td>\n",
       "      <td>0.4444</td>\n",
       "      <td>0.3333</td>\n",
       "      <td>0.0000</td>\n",
       "      <td>0.2692</td>\n",
       "    </tr>\n",
       "    <tr>\n",
       "      <th>reporting_guide</th>\n",
       "      <td>9.0000</td>\n",
       "      <td>21.0000</td>\n",
       "      <td>8.0000</td>\n",
       "      <td>23.0000</td>\n",
       "      <td>61.0000</td>\n",
       "    </tr>\n",
       "    <tr>\n",
       "      <th>per_reporting_guide</th>\n",
       "      <td>0.0865</td>\n",
       "      <td>0.1858</td>\n",
       "      <td>0.0645</td>\n",
       "      <td>0.2805</td>\n",
       "      <td>0.1442</td>\n",
       "    </tr>\n",
       "  </tbody>\n",
       "</table>\n",
       "</div>"
      ],
      "text/plain": [
       "                         2019      2020      2021     2022   overall\n",
       "n_included           104.0000  113.0000  124.0000  82.0000  423.0000\n",
       "n_foss                15.0000   17.0000   29.0000  19.0000   80.0000\n",
       "n_covid                1.0000    9.0000   30.0000  12.0000   52.0000\n",
       "n_avail                5.0000   11.0000   14.0000   9.0000   39.0000\n",
       "n_foss_avail           5.0000    5.0000    9.0000   5.0000   24.0000\n",
       "n_covid_avail          0.0000    4.0000   10.0000   0.0000   14.0000\n",
       "per_foss               0.1442    0.1504    0.2339   0.2317    0.1891\n",
       "per_covid              0.0096    0.0796    0.2419   0.1463    0.1229\n",
       "per_avail              0.0481    0.0973    0.1129   0.1098    0.0922\n",
       "per_foss_avail         0.3333    0.2941    0.3103   0.2632    0.3000\n",
       "per_covid_avail        0.0000    0.4444    0.3333   0.0000    0.2692\n",
       "reporting_guide        9.0000   21.0000    8.0000  23.0000   61.0000\n",
       "per_reporting_guide    0.0865    0.1858    0.0645   0.2805    0.1442"
      ]
     },
     "execution_count": 7,
     "metadata": {},
     "output_type": "execute_result"
    }
   ],
   "source": [
    "# overall\n",
    "year_summary = analysis_by_year(clean)\n",
    "year_summary"
   ]
  },
  {
   "cell_type": "code",
   "execution_count": 8,
   "id": "a0122daa-8c4c-4af8-a55e-54dd6606184a",
   "metadata": {},
   "outputs": [
    {
     "data": {
      "text/plain": [
       "2019       103.0\n",
       "2020       104.0\n",
       "2021        94.0\n",
       "2022        70.0\n",
       "overall    371.0\n",
       "dtype: float64"
      ]
     },
     "execution_count": 8,
     "metadata": {},
     "output_type": "execute_result"
    }
   ],
   "source": [
    "non_covid = year_summary.T['n_included'] - year_summary.T['n_covid']\n",
    "non_covid"
   ]
  },
  {
   "cell_type": "code",
   "execution_count": 9,
   "id": "15b0ee9d-2ba1-4b92-86f4-e1ba29e5fa68",
   "metadata": {},
   "outputs": [
    {
     "data": {
      "image/png": "[encoded data removed]",
      "text/plain": [
       "<Figure size 500x300 with 1 Axes>"
      ]
     },
     "metadata": {},
     "output_type": "display_data"
    }
   ],
   "source": [
    "WIDTH = 0.50       # the width of the bars: can also be len(x) sequence\n",
    "\n",
    "fig = plt.figure(figsize=(5,3))\n",
    "ax = fig.add_subplot()\n",
    "\n",
    "_ = ax.bar(year_summary.columns, non_covid, label='General health models',\n",
    "           width=WIDTH)\n",
    "_ = ax.bar(year_summary.columns, year_summary.T['n_covid'],\n",
    "           label='Covid models', width=WIDTH)\n",
    "\n",
    "_ = ax.set_ylabel('Models')\n",
    "_ = ax.legend()"
   ]
  }
 ],
 "metadata": {
  "kernelspec": {
   "display_name": "Python 3 (ipykernel)",
   "language": "python",
   "name": "python3"
  },
  "language_info": {
   "codemirror_mode": {
    "name": "ipython",
    "version": 3
   },
   "file_extension": ".py",
   "mimetype": "text/x-python",
   "name": "python",
   "nbconvert_exporter": "python",
   "pygments_lexer": "ipython3",
   "version": "3.9.15"
  }
 },
 "nbformat": 4,
 "nbformat_minor": 5
}
