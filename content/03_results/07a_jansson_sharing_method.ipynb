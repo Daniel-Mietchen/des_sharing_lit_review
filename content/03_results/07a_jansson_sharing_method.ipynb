{
 "cells": [
  {
   "cell_type": "markdown",
   "id": "92fc4f0d-8f85-4c79-9a1a-6fd8835d11ed",
   "metadata": {},
   "source": [
    "# Sharing Method\n",
    "\n",
    "This notebook provides an summary of **how** DES models were shared.  This uses Jansson et al (2020) methodology. The summary breaks into the following categories: open science archives, online code repositories, personal or organisation websites, or an online platform.  This is further summarise by models developed via code based tools or Visual Interative Modelling (VIM) software.  The latter is typically a single file.\n",
    "\n",
    "## Data used in analysis\n",
    "\n",
    "The dataset is a subset of the main review - limited to models shared.  The type of model shared is coded as **Visual Interactive Modelling (VIM)** based (e.g Anylogic, Simul8, Arena) versus **CODE** (e.g. Matlab, Python, SimPy, Java, R Simmer).\n",
    "\n",
    "> The data can be found here: https://raw.githubusercontent.com/TomMonks/des_sharing_lit_review/main/data/bp_audit.zip\n"
   ]
  },
  {
   "cell_type": "markdown",
   "id": "a82520b6-6cb1-4155-8dd5-726db03fd373",
   "metadata": {},
   "source": [
    "## 1. Imports\n",
    "\n",
    "### 1.1. Standard"
   ]
  },
  {
   "cell_type": "code",
   "execution_count": 1,
   "id": "4ce538b3-d1b8-4b76-856a-55149c1ce558",
   "metadata": {},
   "outputs": [],
   "source": [
    "import pandas as pd\n",
    "import numpy as np"
   ]
  },
  {
   "cell_type": "markdown",
   "id": "26f7431d-fb28-4b49-adca-987246ec9c0a",
   "metadata": {},
   "source": [
    "### 1.2 Preprocessing"
   ]
  },
  {
   "cell_type": "code",
   "execution_count": 2,
   "id": "8334b652-4311-4ab5-b5f2-efc28c7c3941",
   "metadata": {},
   "outputs": [],
   "source": [
    "from preprocessing import load_clean_bpa, drop_columns"
   ]
  },
  {
   "cell_type": "markdown",
   "id": "e8a631f0-470d-4d13-8ae2-e8f3eafe15dd",
   "metadata": {},
   "source": [
    "## 2. Constants"
   ]
  },
  {
   "cell_type": "code",
   "execution_count": 3,
   "id": "0e270ccf-cc5d-495d-8687-b5399a91ab1d",
   "metadata": {},
   "outputs": [],
   "source": [
    "FILE_NAME = 'https://raw.githubusercontent.com/TomMonks/' \\\n",
    "    + 'des_sharing_lit_review/main/data/bp_audit.zip'"
   ]
  },
  {
   "cell_type": "markdown",
   "id": "b6991d08-ef78-4ac5-89bb-dcfd296477ff",
   "metadata": {},
   "source": [
    "## 3. Analysis functions\n",
    "\n",
    "A number of simple functions to conduct the analysis and format output."
   ]
  },
  {
   "cell_type": "code",
   "execution_count": 4,
   "id": "58053d37-b167-4845-bfaf-a1291cc9e547",
   "metadata": {},
   "outputs": [],
   "source": [
    "def get_counts(df, column):\n",
    "    '''\n",
    "    For a specified column return a Dataframe containing two columns\n",
    "    methods and counts.  The methods are unique and the n represents\n",
    "    the number of instances in the dataset.\n",
    "    \n",
    "    Params:\n",
    "    ------\n",
    "    df: pd.DataFrame\n",
    "        The pandas dataframe containing the cohort of interest\n",
    "        \n",
    "    columns: str\n",
    "        The column containing the values to count.\n",
    "        \n",
    "    Returns:\n",
    "    -------\n",
    "    pd.DataFrame \n",
    "    \n",
    "    '''\n",
    "    method = df[~df[column].isna()][column]\n",
    "    unique_elements, counts_elements = np.unique(method, return_counts=True)\n",
    "    unique_elements, counts_elements = pd.DataFrame(unique_elements), \\\n",
    "                                        pd.DataFrame(counts_elements)\n",
    "    results = pd.concat([unique_elements, counts_elements], axis=1)\n",
    "    results.columns = ['method', 'n']\n",
    "    return results.set_index('method').sort_values('n', ascending=False)"
   ]
  },
  {
   "cell_type": "markdown",
   "id": "0b1c0313-6d4d-44d2-9777-ef8839a2c3b9",
   "metadata": {},
   "source": [
    "## 4. Load and inspect dataset\n",
    "\n",
    "The clean data set has 27 fields included.  These are listed below.  "
   ]
  },
  {
   "cell_type": "code",
   "execution_count": 5,
   "id": "1da17cf0-0f47-4520-969f-4f47d089a6fe",
   "metadata": {},
   "outputs": [],
   "source": [
    "clean = load_clean_bpa(FILE_NAME)"
   ]
  },
  {
   "cell_type": "markdown",
   "id": "3a076f63-90bb-409f-be68-b0d0369858ee",
   "metadata": {},
   "source": [
    "## 5. Results\n"
   ]
  },
  {
   "cell_type": "markdown",
   "id": "be662939-e234-46bd-9375-edf57bcfb6e4",
   "metadata": {},
   "source": [
    "### 5.1 Overall numeric summary"
   ]
  },
  {
   "cell_type": "code",
   "execution_count": 6,
   "id": "f40dc90c-2ae7-4ceb-81d8-36f366adcfe8",
   "metadata": {},
   "outputs": [
    {
     "data": {
      "text/html": [
       "<div>\n",
       "<style scoped>\n",
       "    .dataframe tbody tr th:only-of-type {\n",
       "        vertical-align: middle;\n",
       "    }\n",
       "\n",
       "    .dataframe tbody tr th {\n",
       "        vertical-align: top;\n",
       "    }\n",
       "\n",
       "    .dataframe thead th {\n",
       "        text-align: right;\n",
       "    }\n",
       "</style>\n",
       "<table border=\"1\" class=\"dataframe\">\n",
       "  <thead>\n",
       "    <tr style=\"text-align: right;\">\n",
       "      <th>model_format</th>\n",
       "      <th>CODE</th>\n",
       "      <th>VIM</th>\n",
       "    </tr>\n",
       "  </thead>\n",
       "  <tbody>\n",
       "    <tr>\n",
       "      <th>model_archive</th>\n",
       "      <td>1</td>\n",
       "      <td>3</td>\n",
       "    </tr>\n",
       "    <tr>\n",
       "      <th>model_repo</th>\n",
       "      <td>18</td>\n",
       "      <td>1</td>\n",
       "    </tr>\n",
       "    <tr>\n",
       "      <th>model_journal_supp</th>\n",
       "      <td>5</td>\n",
       "      <td>4</td>\n",
       "    </tr>\n",
       "    <tr>\n",
       "      <th>model_personal_org</th>\n",
       "      <td>4</td>\n",
       "      <td>1</td>\n",
       "    </tr>\n",
       "    <tr>\n",
       "      <th>model_platform</th>\n",
       "      <td>5</td>\n",
       "      <td>6</td>\n",
       "    </tr>\n",
       "  </tbody>\n",
       "</table>\n",
       "</div>"
      ],
      "text/plain": [
       "model_format        CODE  VIM\n",
       "model_archive          1    3\n",
       "model_repo            18    1\n",
       "model_journal_supp     5    4\n",
       "model_personal_org     4    1\n",
       "model_platform         5    6"
      ]
     },
     "execution_count": 6,
     "metadata": {},
     "output_type": "execute_result"
    }
   ],
   "source": [
    "jansson_method = ['model_format', 'model_archive', 'model_repo', 'model_journal_supp',\n",
    "                  'model_personal_org', 'model_platform']\n",
    "\n",
    "clean[jansson_method].groupby(by='model_format').count().T"
   ]
  },
  {
   "cell_type": "markdown",
   "id": "65c8f976-ea1a-45d6-8d9b-7100416929cd",
   "metadata": {},
   "source": [
    "### 5.2 Open science archives "
   ]
  },
  {
   "cell_type": "code",
   "execution_count": 7,
   "id": "4017f77c-c59d-492e-be2a-5b768efda521",
   "metadata": {},
   "outputs": [
    {
     "data": {
      "text/html": [
       "<div>\n",
       "<style scoped>\n",
       "    .dataframe tbody tr th:only-of-type {\n",
       "        vertical-align: middle;\n",
       "    }\n",
       "\n",
       "    .dataframe tbody tr th {\n",
       "        vertical-align: top;\n",
       "    }\n",
       "\n",
       "    .dataframe thead th {\n",
       "        text-align: right;\n",
       "    }\n",
       "</style>\n",
       "<table border=\"1\" class=\"dataframe\">\n",
       "  <thead>\n",
       "    <tr style=\"text-align: right;\">\n",
       "      <th></th>\n",
       "      <th>n</th>\n",
       "    </tr>\n",
       "    <tr>\n",
       "      <th>method</th>\n",
       "      <th></th>\n",
       "    </tr>\n",
       "  </thead>\n",
       "  <tbody>\n",
       "    <tr>\n",
       "      <th>Zenodo</th>\n",
       "      <td>2</td>\n",
       "    </tr>\n",
       "    <tr>\n",
       "      <th>Mendeley</th>\n",
       "      <td>1</td>\n",
       "    </tr>\n",
       "    <tr>\n",
       "      <th>Research Square;</th>\n",
       "      <td>1</td>\n",
       "    </tr>\n",
       "  </tbody>\n",
       "</table>\n",
       "</div>"
      ],
      "text/plain": [
       "                  n\n",
       "method             \n",
       "Zenodo            2\n",
       "Mendeley          1\n",
       "Research Square;  1"
      ]
     },
     "execution_count": 7,
     "metadata": {},
     "output_type": "execute_result"
    }
   ],
   "source": [
    "ARCHIVE = 'model_archive'\n",
    "archive_results = get_counts(clean[jansson_method], ARCHIVE)\n",
    "archive_results"
   ]
  },
  {
   "cell_type": "markdown",
   "id": "8b25e99d-09fe-4960-a071-0cd5b12d5d95",
   "metadata": {},
   "source": [
    "### 5.2 Model repositories"
   ]
  },
  {
   "cell_type": "code",
   "execution_count": 8,
   "id": "6b58f921-df98-4cbb-97ad-e629c7204e9b",
   "metadata": {},
   "outputs": [
    {
     "data": {
      "text/html": [
       "<div>\n",
       "<style scoped>\n",
       "    .dataframe tbody tr th:only-of-type {\n",
       "        vertical-align: middle;\n",
       "    }\n",
       "\n",
       "    .dataframe tbody tr th {\n",
       "        vertical-align: top;\n",
       "    }\n",
       "\n",
       "    .dataframe thead th {\n",
       "        text-align: right;\n",
       "    }\n",
       "</style>\n",
       "<table border=\"1\" class=\"dataframe\">\n",
       "  <thead>\n",
       "    <tr style=\"text-align: right;\">\n",
       "      <th></th>\n",
       "      <th>n</th>\n",
       "    </tr>\n",
       "    <tr>\n",
       "      <th>method</th>\n",
       "      <th></th>\n",
       "    </tr>\n",
       "  </thead>\n",
       "  <tbody>\n",
       "    <tr>\n",
       "      <th>GitHub</th>\n",
       "      <td>16</td>\n",
       "    </tr>\n",
       "    <tr>\n",
       "      <th>Github</th>\n",
       "      <td>2</td>\n",
       "    </tr>\n",
       "    <tr>\n",
       "      <th>GitLab</th>\n",
       "      <td>1</td>\n",
       "    </tr>\n",
       "  </tbody>\n",
       "</table>\n",
       "</div>"
      ],
      "text/plain": [
       "         n\n",
       "method    \n",
       "GitHub  16\n",
       "Github   2\n",
       "GitLab   1"
      ]
     },
     "execution_count": 8,
     "metadata": {},
     "output_type": "execute_result"
    }
   ],
   "source": [
    "repo_results = get_counts(clean[jansson_method], 'model_repo')                            \n",
    "repo_results"
   ]
  },
  {
   "cell_type": "markdown",
   "id": "b607ec0f-f51e-42f6-93bd-3c981143b71d",
   "metadata": {},
   "source": [
    "### 5.3 Format of models stored in journal supplmentary material"
   ]
  },
  {
   "cell_type": "code",
   "execution_count": 9,
   "id": "251fde31-297a-4cdc-a8d5-7d5b01b685c6",
   "metadata": {},
   "outputs": [
    {
     "data": {
      "text/html": [
       "<div>\n",
       "<style scoped>\n",
       "    .dataframe tbody tr th:only-of-type {\n",
       "        vertical-align: middle;\n",
       "    }\n",
       "\n",
       "    .dataframe tbody tr th {\n",
       "        vertical-align: top;\n",
       "    }\n",
       "\n",
       "    .dataframe thead th {\n",
       "        text-align: right;\n",
       "    }\n",
       "</style>\n",
       "<table border=\"1\" class=\"dataframe\">\n",
       "  <thead>\n",
       "    <tr style=\"text-align: right;\">\n",
       "      <th></th>\n",
       "      <th>n</th>\n",
       "    </tr>\n",
       "    <tr>\n",
       "      <th>method</th>\n",
       "      <th></th>\n",
       "    </tr>\n",
       "  </thead>\n",
       "  <tbody>\n",
       "    <tr>\n",
       "      <th>File</th>\n",
       "      <td>4</td>\n",
       "    </tr>\n",
       "    <tr>\n",
       "      <th>Word doc</th>\n",
       "      <td>2</td>\n",
       "    </tr>\n",
       "    <tr>\n",
       "      <th>PDF</th>\n",
       "      <td>1</td>\n",
       "    </tr>\n",
       "    <tr>\n",
       "      <th>R model in word file</th>\n",
       "      <td>1</td>\n",
       "    </tr>\n",
       "    <tr>\n",
       "      <th>r script</th>\n",
       "      <td>1</td>\n",
       "    </tr>\n",
       "  </tbody>\n",
       "</table>\n",
       "</div>"
      ],
      "text/plain": [
       "                      n\n",
       "method                 \n",
       "File                  4\n",
       "Word doc              2\n",
       "PDF                   1\n",
       "R model in word file  1\n",
       "r script              1"
      ]
     },
     "execution_count": 9,
     "metadata": {},
     "output_type": "execute_result"
    }
   ],
   "source": [
    "supp_results = get_counts(clean[jansson_method], 'model_journal_supp')                            \n",
    "supp_results"
   ]
  },
  {
   "cell_type": "markdown",
   "id": "a0bbe2e1-c40f-4be5-a58e-2c94052f58d2",
   "metadata": {},
   "source": [
    "### 5.4 Personal and organisational websites"
   ]
  },
  {
   "cell_type": "code",
   "execution_count": 10,
   "id": "3b6b1c36-bd92-4c4d-aefa-412ee59d81e7",
   "metadata": {},
   "outputs": [
    {
     "data": {
      "text/html": [
       "<div>\n",
       "<style scoped>\n",
       "    .dataframe tbody tr th:only-of-type {\n",
       "        vertical-align: middle;\n",
       "    }\n",
       "\n",
       "    .dataframe tbody tr th {\n",
       "        vertical-align: top;\n",
       "    }\n",
       "\n",
       "    .dataframe thead th {\n",
       "        text-align: right;\n",
       "    }\n",
       "</style>\n",
       "<table border=\"1\" class=\"dataframe\">\n",
       "  <thead>\n",
       "    <tr style=\"text-align: right;\">\n",
       "      <th></th>\n",
       "      <th>n</th>\n",
       "    </tr>\n",
       "    <tr>\n",
       "      <th>method</th>\n",
       "      <th></th>\n",
       "    </tr>\n",
       "  </thead>\n",
       "  <tbody>\n",
       "    <tr>\n",
       "      <th>Personex</th>\n",
       "      <td>2</td>\n",
       "    </tr>\n",
       "    <tr>\n",
       "      <th>Google Drive</th>\n",
       "      <td>1</td>\n",
       "    </tr>\n",
       "    <tr>\n",
       "      <th>https://resp.core.ubc.ca/research/Specific_Projects/EPIC</th>\n",
       "      <td>1</td>\n",
       "    </tr>\n",
       "    <tr>\n",
       "      <th>personex</th>\n",
       "      <td>1</td>\n",
       "    </tr>\n",
       "  </tbody>\n",
       "</table>\n",
       "</div>"
      ],
      "text/plain": [
       "                                                    n\n",
       "method                                               \n",
       "Personex                                            2\n",
       "Google Drive                                        1\n",
       "https://resp.core.ubc.ca/research/Specific_Proj...  1\n",
       "personex                                            1"
      ]
     },
     "execution_count": 10,
     "metadata": {},
     "output_type": "execute_result"
    }
   ],
   "source": [
    "org_results = get_counts(clean[jansson_method], 'model_personal_org')                            \n",
    "org_results"
   ]
  },
  {
   "cell_type": "markdown",
   "id": "bebe7608-de75-44c9-b3a3-d4687e654c22",
   "metadata": {},
   "source": [
    "### 5.5 Platform"
   ]
  },
  {
   "cell_type": "code",
   "execution_count": 11,
   "id": "ae743abc-1cc9-4b23-addb-93e46714b4ea",
   "metadata": {},
   "outputs": [
    {
     "data": {
      "text/html": [
       "<div>\n",
       "<style scoped>\n",
       "    .dataframe tbody tr th:only-of-type {\n",
       "        vertical-align: middle;\n",
       "    }\n",
       "\n",
       "    .dataframe tbody tr th {\n",
       "        vertical-align: top;\n",
       "    }\n",
       "\n",
       "    .dataframe thead th {\n",
       "        text-align: right;\n",
       "    }\n",
       "</style>\n",
       "<table border=\"1\" class=\"dataframe\">\n",
       "  <thead>\n",
       "    <tr style=\"text-align: right;\">\n",
       "      <th></th>\n",
       "      <th>n</th>\n",
       "    </tr>\n",
       "    <tr>\n",
       "      <th>method</th>\n",
       "      <th></th>\n",
       "    </tr>\n",
       "  </thead>\n",
       "  <tbody>\n",
       "    <tr>\n",
       "      <th>AnyLogic Cloud</th>\n",
       "      <td>3</td>\n",
       "    </tr>\n",
       "    <tr>\n",
       "      <th>Anylogic Cloud</th>\n",
       "      <td>3</td>\n",
       "    </tr>\n",
       "    <tr>\n",
       "      <th>CRAN</th>\n",
       "      <td>2</td>\n",
       "    </tr>\n",
       "    <tr>\n",
       "      <th>BinderHub</th>\n",
       "      <td>1</td>\n",
       "    </tr>\n",
       "    <tr>\n",
       "      <th>Google Colab</th>\n",
       "      <td>1</td>\n",
       "    </tr>\n",
       "    <tr>\n",
       "      <th>R Shiney</th>\n",
       "      <td>1</td>\n",
       "    </tr>\n",
       "  </tbody>\n",
       "</table>\n",
       "</div>"
      ],
      "text/plain": [
       "                n\n",
       "method           \n",
       "AnyLogic Cloud  3\n",
       "Anylogic Cloud  3\n",
       "CRAN            2\n",
       "BinderHub       1\n",
       "Google Colab    1\n",
       "R Shiney        1"
      ]
     },
     "execution_count": 11,
     "metadata": {},
     "output_type": "execute_result"
    }
   ],
   "source": [
    "platform_results = get_counts(clean[jansson_method], 'model_platform')                            \n",
    "platform_results"
   ]
  },
  {
   "cell_type": "markdown",
   "id": "0f60d141-48d2-434e-b8bd-3097a85928d4",
   "metadata": {},
   "source": [
    "### 5.7 Overall summary table"
   ]
  },
  {
   "cell_type": "code",
   "execution_count": null,
   "id": "60e2213b-7d89-49a1-b140-266d9bb03f82",
   "metadata": {},
   "outputs": [],
   "source": []
  }
 ],
 "metadata": {
  "kernelspec": {
   "display_name": "Python 3 (ipykernel)",
   "language": "python",
   "name": "python3"
  },
  "language_info": {
   "codemirror_mode": {
    "name": "ipython",
    "version": 3
   },
   "file_extension": ".py",
   "mimetype": "text/x-python",
   "name": "python",
   "nbconvert_exporter": "python",
   "pygments_lexer": "ipython3",
   "version": "3.9.15"
  }
 },
 "nbformat": 4,
 "nbformat_minor": 5
}
