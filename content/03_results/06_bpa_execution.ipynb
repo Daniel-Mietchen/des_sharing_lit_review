{
 "cells": [
  {
   "cell_type": "markdown",
   "id": "92fc4f0d-8f85-4c79-9a1a-6fd8835d11ed",
   "metadata": {},
   "source": [
    "# Model execution\n",
    "\n",
    "This notebook provides an analysis of the sharing of models against our best practices for enabling other to use and execute the simulation model.  In summary this is defined as:\n",
    "\n",
    "1. The authors provide a readme or other obvious instruction file for users to consult; \n",
    "2. The authors provide step by step instructions to run the DES model;\n",
    "3. Models are shared with either informal or formal software dependency management; \n",
    "4. Models are shared with details of model and/or code testing;\n",
    "5. The model or model code is downloadable to enable local execution;\n",
    "6. The model is shared in a manner that enables execution online without the need to install locally.\n",
    "\n",
    "## Notebook aims\n",
    "\n",
    "The notebook analyses the following questions related to best practice:\n",
    "\n",
    "1.  What proportion of the shared model artefacts have a readme or equivalent file?\n",
    "2.  What proportion of artefacts have step by step instructions to use them?\n",
    "3.  What proportion of models have formal and informal dependency management included?\n",
    "4.  What proportion of models are shared with evidence that they have been tested?\n",
    "\n",
    "\n",
    "## Data used in analysis\n",
    "\n",
    "The dataset is a subset of the main review - limited to models shared.  The type of model shared is coded as **Visual Interactive Modelling (VIM)** based (e.g Anylogic, Simul8, Arena) versus **CODE** (e.g. Matlab, Python, SimPy, Java, R Simmer).\n",
    "\n",
    "> The data can be found here: https://raw.githubusercontent.com/TomMonks/des_sharing_lit_review/main/data/bp_audit.zip\n",
    "\n",
    "The following fields are analysed in this notebook.\n",
    "\n",
    "* `model_format` - VIM or CODE\n",
    "* `readme` - is there an obvious file(s) where a user would look first? (0/1)             \n",
    "* `steps_run` - are there steps to run a model? (0/1)\n",
    "* `formal_dep_mgt` - has the model been shared with formal software dependency management? (0/1)\n",
    "* `informal_dep_mgt` - have any informal methods of dependency management been shared?  E.g. a list of software requirements. (0/1)\n",
    "* `evidence_testing` - do the model and artefacts in the repository contain any evidence that they have been tested? (0/1)\n",
    "* `downloadable` - can the model and artefacts be downloaded and executed locally? (0/1)\n",
    "* `interactive_online` - can the model and its artefacts be executed online without local installation? (0/1)"
   ]
  },
  {
   "cell_type": "markdown",
   "id": "a82520b6-6cb1-4155-8dd5-726db03fd373",
   "metadata": {},
   "source": [
    "## 1. Imports\n",
    "\n",
    "### 1.1. Standard"
   ]
  },
  {
   "cell_type": "code",
   "execution_count": 1,
   "id": "4ce538b3-d1b8-4b76-856a-55149c1ce558",
   "metadata": {},
   "outputs": [],
   "source": [
    "import pandas as pd\n",
    "import numpy as np"
   ]
  },
  {
   "cell_type": "markdown",
   "id": "26f7431d-fb28-4b49-adca-987246ec9c0a",
   "metadata": {},
   "source": [
    "### 1.2 Preprocessing"
   ]
  },
  {
   "cell_type": "code",
   "execution_count": 53,
   "id": "8334b652-4311-4ab5-b5f2-efc28c7c3941",
   "metadata": {},
   "outputs": [],
   "source": [
    "from preprocessing import load_clean_bpa, drop_columns"
   ]
  },
  {
   "cell_type": "markdown",
   "id": "e8a631f0-470d-4d13-8ae2-e8f3eafe15dd",
   "metadata": {},
   "source": [
    "## 2. Constants"
   ]
  },
  {
   "cell_type": "code",
   "execution_count": 5,
   "id": "0e270ccf-cc5d-495d-8687-b5399a91ab1d",
   "metadata": {},
   "outputs": [],
   "source": [
    "FILE_NAME = 'https://raw.githubusercontent.com/TomMonks/' \\\n",
    "    + 'des_sharing_lit_review/main/data/bp_audit.zip'"
   ]
  },
  {
   "cell_type": "markdown",
   "id": "b6991d08-ef78-4ac5-89bb-dcfd296477ff",
   "metadata": {},
   "source": [
    "## 3. Analysis functions\n",
    "\n",
    "A number of simple functions to conduct the analysis and format output."
   ]
  },
  {
   "cell_type": "code",
   "execution_count": 4,
   "id": "414310b0-c81f-46a6-8c8e-4441af59e352",
   "metadata": {},
   "outputs": [],
   "source": [
    "def balance_of_model_format(df):\n",
    "    unique_elements, counts_elements = np.unique(df['model_format'], \n",
    "                                                 return_counts=True)\n",
    "    return unique_elements, counts_elements"
   ]
  },
  {
   "cell_type": "code",
   "execution_count": 6,
   "id": "685b9c8e-82e4-48ff-8004-9df2a4e42d12",
   "metadata": {},
   "outputs": [],
   "source": [
    "def field_by_sharing_tools(df, field=LICENSE_LABEL):\n",
    "    '''\n",
    "    Return a DataFrame containing licenses (rows) by type of sharing\n",
    "    i.e. archive, cloud repo, journal supp , personal/org website, platform.\n",
    "    \n",
    "    Parameters:\n",
    "    -----------\n",
    "    df: pd.DataFrame\n",
    "        Contains data to analysis.  Eg.full dataset or subset\n",
    "        \n",
    "    Returns:\n",
    "    -------\n",
    "    DataFrame (9, 6)\n",
    "    '''\n",
    "    selected_columns = ['model_archive', 'model_repo', 'model_journal_supp',\n",
    "                        'model_personal_org', 'model_platform']\n",
    "    license_by_sharing = df.groupby(by=field)[selected_columns].count()\n",
    "    return license_by_sharing.sort_values(by='model_repo', \n",
    "                                          ascending=False)"
   ]
  },
  {
   "cell_type": "code",
   "execution_count": 7,
   "id": "819d1259-6cc5-4ca2-9b55-b1253ccd979a",
   "metadata": {},
   "outputs": [],
   "source": [
    "def format_license_table(df):\n",
    "    '''\n",
    "    Format the license table.\n",
    "    '''\n",
    "    column_headers = ['Archive', 'Repository', \n",
    "                      'Journal', 'Personal/org', 'Platform']\n",
    "    df.columns = column_headers\n",
    "    return df"
   ]
  },
  {
   "cell_type": "markdown",
   "id": "0b1c0313-6d4d-44d2-9777-ef8839a2c3b9",
   "metadata": {},
   "source": [
    "## 3. Load and inspect dataset\n",
    "\n",
    "The clean data set has 27 fields included.  These are listed below.  "
   ]
  },
  {
   "cell_type": "code",
   "execution_count": 8,
   "id": "1da17cf0-0f47-4520-969f-4f47d089a6fe",
   "metadata": {},
   "outputs": [
    {
     "name": "stdout",
     "output_type": "stream",
     "text": [
      "<class 'pandas.core.frame.DataFrame'>\n",
      "RangeIndex: 39 entries, 0 to 38\n",
      "Data columns (total 27 columns):\n",
      " #   Column                        Non-Null Count  Dtype   \n",
      "---  ------                        --------------  -----   \n",
      " 0   model_format                  39 non-null     category\n",
      " 1   key                           39 non-null     object  \n",
      " 2   item_type                     39 non-null     category\n",
      " 3   pub_yr                        39 non-null     int64   \n",
      " 4   author                        39 non-null     object  \n",
      " 5   doi                           38 non-null     object  \n",
      " 6   reporting_guidelines_mention  39 non-null     category\n",
      " 7   covid                         39 non-null     category\n",
      " 8   sim_software                  39 non-null     object  \n",
      " 9   foss_sim                      39 non-null     category\n",
      " 10  model_archive                 4 non-null      object  \n",
      " 11  model_repo                    18 non-null     object  \n",
      " 12  model_journal_supp            9 non-null      object  \n",
      " 13  model_personal_org            5 non-null      object  \n",
      " 14  model_platform                8 non-null      object  \n",
      " 15  github_url                    16 non-null     object  \n",
      " 16  model_has_doi                 39 non-null     category\n",
      " 17  orcid                         39 non-null     category\n",
      " 18  license                       39 non-null     object  \n",
      " 19  readme                        39 non-null     category\n",
      " 20  link_to_paper                 29 non-null     category\n",
      " 21  steps_run                     39 non-null     category\n",
      " 22  formal_dep_mgt                39 non-null     category\n",
      " 23  informal_dep_mgt              39 non-null     category\n",
      " 24  evidence_testing              20 non-null     category\n",
      " 25  downloadable                  39 non-null     category\n",
      " 26  interactive_online            39 non-null     category\n",
      "dtypes: category(15), int64(1), object(11)\n",
      "memory usage: 6.2+ KB\n"
     ]
    }
   ],
   "source": [
    "clean = load_clean_bpa(FILE_NAME)\n",
    "clean.info()"
   ]
  },
  {
   "cell_type": "markdown",
   "id": "06d5e47e-da99-46df-81c0-9e37806b7cec",
   "metadata": {},
   "source": [
    "## 4. Results\n",
    "\n",
    "The table illustrates the number of "
   ]
  },
  {
   "cell_type": "code",
   "execution_count": 18,
   "id": "4b7b1fac-36c2-4c0d-ad33-0fcbd73870f2",
   "metadata": {},
   "outputs": [],
   "source": [
    "cols = ['readme', 'steps_run', 'formal_dep_mgt', 'informal_dep_mgt', \n",
    "        'evidence_testing', 'downloadable', 'interactive_online']"
   ]
  },
  {
   "cell_type": "code",
   "execution_count": 65,
   "id": "85d1d922-8f54-4cfb-a964-c185790074ed",
   "metadata": {},
   "outputs": [
    {
     "data": {
      "text/html": [
       "<div>\n",
       "<style scoped>\n",
       "    .dataframe tbody tr th:only-of-type {\n",
       "        vertical-align: middle;\n",
       "    }\n",
       "\n",
       "    .dataframe tbody tr th {\n",
       "        vertical-align: top;\n",
       "    }\n",
       "\n",
       "    .dataframe thead th {\n",
       "        text-align: right;\n",
       "    }\n",
       "</style>\n",
       "<table border=\"1\" class=\"dataframe\">\n",
       "  <thead>\n",
       "    <tr style=\"text-align: right;\">\n",
       "      <th></th>\n",
       "      <th>CODE</th>\n",
       "      <th>VIM</th>\n",
       "      <th>Overall</th>\n",
       "    </tr>\n",
       "    <tr>\n",
       "      <th>Best Practice</th>\n",
       "      <th></th>\n",
       "      <th></th>\n",
       "      <th></th>\n",
       "    </tr>\n",
       "  </thead>\n",
       "  <tbody>\n",
       "    <tr>\n",
       "      <th>readme</th>\n",
       "      <td>18</td>\n",
       "      <td>7</td>\n",
       "      <td>25</td>\n",
       "    </tr>\n",
       "    <tr>\n",
       "      <th>steps_run</th>\n",
       "      <td>16</td>\n",
       "      <td>10</td>\n",
       "      <td>26</td>\n",
       "    </tr>\n",
       "    <tr>\n",
       "      <th>formal_dep_mgt</th>\n",
       "      <td>20</td>\n",
       "      <td>13</td>\n",
       "      <td>33</td>\n",
       "    </tr>\n",
       "    <tr>\n",
       "      <th>informal_dep_mgt</th>\n",
       "      <td>21</td>\n",
       "      <td>8</td>\n",
       "      <td>29</td>\n",
       "    </tr>\n",
       "    <tr>\n",
       "      <th>evidence_testing</th>\n",
       "      <td>17</td>\n",
       "      <td>0</td>\n",
       "      <td>17</td>\n",
       "    </tr>\n",
       "    <tr>\n",
       "      <th>downloadable</th>\n",
       "      <td>26</td>\n",
       "      <td>9</td>\n",
       "      <td>35</td>\n",
       "    </tr>\n",
       "    <tr>\n",
       "      <th>interactive_online</th>\n",
       "      <td>23</td>\n",
       "      <td>8</td>\n",
       "      <td>31</td>\n",
       "    </tr>\n",
       "  </tbody>\n",
       "</table>\n",
       "</div>"
      ],
      "text/plain": [
       "                    CODE  VIM  Overall\n",
       "Best Practice                         \n",
       "readme                18    7       25\n",
       "steps_run             16   10       26\n",
       "formal_dep_mgt        20   13       33\n",
       "informal_dep_mgt      21    8       29\n",
       "evidence_testing      17    0       17\n",
       "downloadable          26    9       35\n",
       "interactive_online    23    8       31"
      ]
     },
     "execution_count": 65,
     "metadata": {},
     "output_type": "execute_result"
    }
   ],
   "source": [
    "results = clean.groupby(by='model_format')[cols].describe()\n",
    "results = results.T.reset_index()\n",
    "results = results[results['level_1'] == 'freq']\n",
    "results = results.astype({'CODE': np.int32})\n",
    "results = results.fillna(value={'VIM': 0})\n",
    "results['Overall'] = results['CODE'] + results['VIM']\n",
    "results.columns = ['Best Practice', 'level_1', 'CODE', 'VIM', 'Overall']\n",
    "results = results.set_index(results['Best Practice'])\n",
    "results = results.drop(columns=['level_1', 'Best Practice'], axis=1)\n",
    "\n",
    "results"
   ]
  },
  {
   "cell_type": "markdown",
   "id": "39447a83-72cc-4b8f-b842-98c9ab249932",
   "metadata": {},
   "source": [
    "## Overall summary"
   ]
  },
  {
   "cell_type": "code",
   "execution_count": 67,
   "id": "092aab6a-e273-4adc-a5e7-13f937379a53",
   "metadata": {},
   "outputs": [],
   "source": [
    "cols = ['model_has_doi', 'orcid', 'license', 'readme', 'steps_run', \n",
    "        'formal_dep_mgt', 'informal_dep_mgt', \n",
    "        'evidence_testing', 'downloadable', 'interactive_online']"
   ]
  },
  {
   "cell_type": "code",
   "execution_count": 68,
   "id": "5242dbd8-500d-40c3-b99b-63a51f5e0c38",
   "metadata": {},
   "outputs": [
    {
     "data": {
      "text/html": [
       "<div>\n",
       "<style scoped>\n",
       "    .dataframe tbody tr th:only-of-type {\n",
       "        vertical-align: middle;\n",
       "    }\n",
       "\n",
       "    .dataframe tbody tr th {\n",
       "        vertical-align: top;\n",
       "    }\n",
       "\n",
       "    .dataframe thead th {\n",
       "        text-align: right;\n",
       "    }\n",
       "</style>\n",
       "<table border=\"1\" class=\"dataframe\">\n",
       "  <thead>\n",
       "    <tr style=\"text-align: right;\">\n",
       "      <th></th>\n",
       "      <th>CODE</th>\n",
       "      <th>VIM</th>\n",
       "      <th>Overall</th>\n",
       "    </tr>\n",
       "    <tr>\n",
       "      <th>Best Practice</th>\n",
       "      <th></th>\n",
       "      <th></th>\n",
       "      <th></th>\n",
       "    </tr>\n",
       "  </thead>\n",
       "  <tbody>\n",
       "    <tr>\n",
       "      <th>model_has_doi</th>\n",
       "      <td>23</td>\n",
       "      <td>10</td>\n",
       "      <td>33</td>\n",
       "    </tr>\n",
       "    <tr>\n",
       "      <th>orcid</th>\n",
       "      <td>23</td>\n",
       "      <td>10</td>\n",
       "      <td>33</td>\n",
       "    </tr>\n",
       "    <tr>\n",
       "      <th>license</th>\n",
       "      <td>13</td>\n",
       "      <td>8</td>\n",
       "      <td>21</td>\n",
       "    </tr>\n",
       "    <tr>\n",
       "      <th>readme</th>\n",
       "      <td>18</td>\n",
       "      <td>7</td>\n",
       "      <td>25</td>\n",
       "    </tr>\n",
       "    <tr>\n",
       "      <th>steps_run</th>\n",
       "      <td>16</td>\n",
       "      <td>10</td>\n",
       "      <td>26</td>\n",
       "    </tr>\n",
       "    <tr>\n",
       "      <th>formal_dep_mgt</th>\n",
       "      <td>20</td>\n",
       "      <td>13</td>\n",
       "      <td>33</td>\n",
       "    </tr>\n",
       "    <tr>\n",
       "      <th>informal_dep_mgt</th>\n",
       "      <td>21</td>\n",
       "      <td>8</td>\n",
       "      <td>29</td>\n",
       "    </tr>\n",
       "    <tr>\n",
       "      <th>evidence_testing</th>\n",
       "      <td>17</td>\n",
       "      <td>0</td>\n",
       "      <td>17</td>\n",
       "    </tr>\n",
       "    <tr>\n",
       "      <th>downloadable</th>\n",
       "      <td>26</td>\n",
       "      <td>9</td>\n",
       "      <td>35</td>\n",
       "    </tr>\n",
       "    <tr>\n",
       "      <th>interactive_online</th>\n",
       "      <td>23</td>\n",
       "      <td>8</td>\n",
       "      <td>31</td>\n",
       "    </tr>\n",
       "  </tbody>\n",
       "</table>\n",
       "</div>"
      ],
      "text/plain": [
       "                    CODE  VIM  Overall\n",
       "Best Practice                         \n",
       "model_has_doi         23   10       33\n",
       "orcid                 23   10       33\n",
       "license               13    8       21\n",
       "readme                18    7       25\n",
       "steps_run             16   10       26\n",
       "formal_dep_mgt        20   13       33\n",
       "informal_dep_mgt      21    8       29\n",
       "evidence_testing      17    0       17\n",
       "downloadable          26    9       35\n",
       "interactive_online    23    8       31"
      ]
     },
     "execution_count": 68,
     "metadata": {},
     "output_type": "execute_result"
    }
   ],
   "source": [
    "results = clean.groupby(by='model_format')[cols].describe()\n",
    "results = results.T.reset_index()\n",
    "results = results[results['level_1'] == 'freq']\n",
    "results = results.astype({'CODE': np.int32})\n",
    "results = results.fillna(value={'VIM': 0})\n",
    "results['Overall'] = results['CODE'] + results['VIM']\n",
    "results.columns = ['Best Practice', 'level_1', 'CODE', 'VIM', 'Overall']\n",
    "results = results.set_index(results['Best Practice'])\n",
    "results = results.drop(columns=['level_1', 'Best Practice'], axis=1)\n",
    "\n",
    "results"
   ]
  },
  {
   "cell_type": "code",
   "execution_count": null,
   "id": "5e18bf28-4f89-43d7-a4e4-cb04989c707b",
   "metadata": {},
   "outputs": [],
   "source": []
  }
 ],
 "metadata": {
  "kernelspec": {
   "display_name": "Python 3 (ipykernel)",
   "language": "python",
   "name": "python3"
  },
  "language_info": {
   "codemirror_mode": {
    "name": "ipython",
    "version": 3
   },
   "file_extension": ".py",
   "mimetype": "text/x-python",
   "name": "python",
   "nbconvert_exporter": "python",
   "pygments_lexer": "ipython3",
   "version": "3.9.15"
  }
 },
 "nbformat": 4,
 "nbformat_minor": 5
}
